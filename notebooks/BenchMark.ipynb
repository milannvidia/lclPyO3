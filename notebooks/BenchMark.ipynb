{
 "cells": [
  {
   "cell_type": "markdown",
   "metadata": {},
   "source": [
    "### Imports"
   ]
  },
  {
   "cell_type": "code",
   "execution_count": 1,
   "metadata": {},
   "outputs": [],
   "source": [
    "import numpy\n",
    "# prevent confusion\n",
    "from lclPyO3 import lclPyO3 as lcl_rust\n",
    "\n",
    "# termination functions\n",
    "from lclPyO3.termination.min_temperature_termination_criterion import MinTemperatureTerminationCriterion\n",
    "from lclPyO3.termination.max_seconds_termination_criterion import MaxSecondsTerminationCriterion\n",
    "\n",
    "# simulated annealing\n",
    "from lclPyO3.localsearch.simulatedannealing.simulated_annealing import SimulatedAnnealing\n",
    "from lclPyO3.localsearch.simulatedannealing.geometric_cooling_function import GeometricCoolingFunction\n",
    "from lclPyO3.localsearch.simulatedannealing.cnst_iterations_temp_function import CnstIterationsTempFunction\n",
    "\n",
    "# steepest descent \n",
    "from lclPyO3.localsearch.steepestdescent.steepest_descent import SteepestDescent\n",
    "\n",
    "# tabu search\n",
    "from lclPyO3.localsearch.tabusearch.sum_diff_state import SumDiffState\n",
    "from lclPyO3.localsearch.tabusearch.tabu_search import TabuSearch\n",
    "\n",
    "# variable neighbourhood search\n",
    "from lclPyO3.localsearch.vns.variable_neighbourhood import VariableNeighbourhood\n",
    "\n",
    "# move functions\n",
    "from lclPyO3.localsearch.move.tsp_array_swap import TspArraySwap\n",
    "from lclPyO3.localsearch.move.array_reverse_order import ArrayReverseOrder\n",
    "from lclPyO3.localsearch.move.multi_neighbourhood import MultiNeighbourhood\n",
    "\n",
    "# evaluation function\n",
    "from lclPyO3.evaluation.tsp_evaluation_function import TspEvaluationFunction\n",
    "\n",
    "# Problem class\n",
    "from lclPyO3.problem.array_problem import ArrayProblem"
   ]
  },
  {
   "cell_type": "markdown",
   "metadata": {},
   "source": [
    " #### rust setup TSP48"
   ]
  },
  {
   "cell_type": "code",
   "execution_count": 2,
   "metadata": {},
   "outputs": [],
   "source": [
    "rEval=lcl_rust.Evaluation.tsp_from_dist_matrix(\"../data/distanceMatrix\")\n",
    "\n",
    "rMove0=lcl_rust.MoveType.swap_tsp()\n",
    "rMove1=lcl_rust.MoveType.reverse()\n",
    "rProblemSwap=lcl_rust.Problem.array_problem(rMove0,rEval)\n",
    "rProblemReverse=lcl_rust.Problem.array_problem(rMove1,rEval)\n",
    "\n",
    "#simulated annealing\n",
    "rMinTemp=lcl_rust.Termination.min_temp(100)\n",
    "rCooling=lcl_rust.Cooling.geometric_cooling(0.95)\n",
    "rIter=lcl_rust.IterationsPerTemp.cnst_iter_temp(1500)\n",
    "rSimAnn=lcl_rust.LocalSearch.simulated_annealing(2000,True,rProblemSwap,rMinTemp,rCooling,rIter)\n",
    "\n",
    "#steepest descent\n",
    "rMax5=lcl_rust.Termination.max_sec(5)\n",
    "rSteepestDescent=lcl_rust.LocalSearch.steepest_descent(True,rProblemSwap,rMax5)\n",
    "\n",
    "#tabu search\n",
    "rTabuSearch=lcl_rust.LocalSearch.tabu_search(True,rProblemSwap,rMax5)\n",
    "\n",
    "#vns\n",
    "rMoveVNS=lcl_rust.MoveType.multi_neighbor([rMove0,rMove1])\n",
    "rProblemVNS=lcl_rust.Problem.array_problem(rMoveVNS,rEval)\n",
    "rVNS=lcl_rust.LocalSearch.vns(True,rProblemVNS,rMax5)"
   ]
  },
  {
   "cell_type": "markdown",
   "metadata": {},
   "source": [
    " #### python setup"
   ]
  },
  {
   "cell_type": "code",
   "execution_count": 3,
   "metadata": {},
   "outputs": [],
   "source": [
    "pData=numpy.loadtxt(\"../data/distanceMatrix\",dtype=float)\n",
    "\n",
    "#simulated annealing\n",
    "pMoveSA = TspArraySwap(pData.shape[0])\n",
    "pEvalSA=TspEvaluationFunction(pData,pMoveSA)\n",
    "pProblemSA=ArrayProblem(pEvalSA,pMoveSA,pData.shape[0])\n",
    "pMinTemp = MinTemperatureTerminationCriterion(100)\n",
    "pCooling = GeometricCoolingFunction(0.95)\n",
    "pIter = CnstIterationsTempFunction(1500)\n",
    "pSimAnn = SimulatedAnnealing(pProblemSA, pMinTemp, pCooling, pIter, logging=False, benchmarking=True)\n",
    "\n",
    "#steepest descent\n",
    "pMoveSD = TspArraySwap(pData.shape[0])\n",
    "pEvalSD=TspEvaluationFunction(pData,pMoveSD)\n",
    "pMax5SD=MaxSecondsTerminationCriterion(5)\n",
    "pProblemSD=ArrayProblem(pEvalSD,pMoveSD,pData.shape[0])\n",
    "pSteepestDescent=SteepestDescent(pProblemSD,pMax5SD,logging=False, benchmarking=True)\n",
    "\n",
    "#Tabu Search\n",
    "pMax5TB=MaxSecondsTerminationCriterion(5)\n",
    "pMoveTB = TspArraySwap(pData.shape[0])\n",
    "pEvalTB=TspEvaluationFunction(pData,pMoveTB)\n",
    "pProblemTB=ArrayProblem(pEvalTB,pMoveTB,pData.shape[0])\n",
    "pDiffState =SumDiffState()\n",
    "pTabuSearch=TabuSearch(pProblemTB,pMax5TB,pDiffState,logging=False, benchmarking=True)\n",
    "\n",
    "#vns\n",
    "pMax5VNS=MaxSecondsTerminationCriterion(5)\n",
    "pMove0 = TspArraySwap(pData.shape[0])\n",
    "pMove1 = ArrayReverseOrder(pData.shape[0])\n",
    "pMoveVNS = MultiNeighbourhood([pMove0,pMove0])\n",
    "\n",
    "pEvalVNS=TspEvaluationFunction(pData,pMoveVNS)\n",
    "pProblemVNS=ArrayProblem(pEvalVNS,pMoveVNS,pData.shape[0])\n",
    "pVNS = VariableNeighbourhood(pEvalVNS,pMoveVNS,logging=False, benchmarking=True)\n"
   ]
  },
  {
   "cell_type": "markdown",
   "metadata": {},
   "source": [
    "### Run tests"
   ]
  },
  {
   "cell_type": "code",
   "execution_count": 4,
   "metadata": {},
   "outputs": [],
   "source": [
    "rustBenchRes=lcl_rust.benchmark([rProblemSwap,rProblemReverse],[rSimAnn,rSteepestDescent,rTabuSearch],rMax5,10)\n"
   ]
  },
  {
   "cell_type": "code",
   "execution_count": null,
   "metadata": {},
   "outputs": [
    {
     "name": "stdout",
     "output_type": "stream",
     "text": [
      "____Rust Results___\n",
      "|--- Runs for algorithm \n",
      "|--- Runs for seed \n",
      "(5000001600, 39413.0, 39413.0, 31811361)\n",
      "(5000001200, 38568.0, 38611.0, 32112770)\n",
      "(5000001100, 36693.0, 36693.0, 33041671)\n",
      "(5000001100, 38480.0, 38598.0, 33102643)\n",
      "(5000001200, 38323.0, 38323.0, 33236680)\n",
      "(5000001200, 34287.0, 34477.0, 33116459)\n",
      "(5000001100, 36302.0, 36585.0, 33289614)\n",
      "(5000001100, 36157.0, 36157.0, 33267543)\n",
      "(5000001100, 36677.0, 36781.0, 33056245)\n",
      "(5000001000, 35256.0, 35256.0, 33065007)\n",
      "|--- Runs for seed \n",
      "(5000001400, 34404.0, 34404.0, 31857506)\n",
      "(5000001200, 33809.0, 33809.0, 32122015)\n",
      "(5000001100, 33927.0, 33927.0, 31545302)\n",
      "(5000001100, 33614.0, 33614.0, 31595481)\n",
      "(5000001500, 34151.0, 34151.0, 31249707)\n",
      "(5000001300, 33633.0, 33633.0, 32175656)\n",
      "(5000035300, 34092.0, 34092.0, 31891031)\n",
      "(5000001500, 33970.0, 33970.0, 31466102)\n",
      "(5000001000, 33912.0, 33912.0, 32202537)\n",
      "(5000001100, 34465.0, 34465.0, 31618247)\n",
      "|--- Runs for algorithm \n",
      "|--- Runs for seed \n",
      "(1347100, 55658.0, 55658.0, 42)\n",
      "(1278800, 55658.0, 55658.0, 42)\n",
      "(1239300, 55658.0, 55658.0, 42)\n",
      "(1215900, 55658.0, 55658.0, 42)\n",
      "(1172000, 55658.0, 55658.0, 42)\n",
      "(1199300, 55658.0, 55658.0, 42)\n",
      "(1119900, 55658.0, 55658.0, 42)\n",
      "(1249700, 55658.0, 55658.0, 42)\n",
      "(1152300, 55658.0, 55658.0, 42)\n",
      "(1106200, 55658.0, 55658.0, 42)\n",
      "|--- Runs for seed \n",
      "(1767200, 35608.0, 35608.0, 50)\n",
      "(1878000, 35608.0, 35608.0, 50)\n",
      "(1852500, 35608.0, 35608.0, 50)\n",
      "(1734600, 35608.0, 35608.0, 50)\n",
      "(1808100, 35608.0, 35608.0, 50)\n",
      "(1882800, 35608.0, 35608.0, 50)\n",
      "(2102800, 35608.0, 35608.0, 50)\n",
      "(1841700, 35608.0, 35608.0, 50)\n",
      "(1722300, 35608.0, 35608.0, 50)\n",
      "(1895500, 35608.0, 35608.0, 50)\n",
      "|--- Runs for algorithm \n",
      "|--- Runs for seed \n",
      "(6018000, 55658.0, 55658.0, 44)\n",
      "(5978200, 55658.0, 55658.0, 44)\n",
      "(6193900, 55658.0, 55658.0, 44)\n",
      "(6201400, 55658.0, 55658.0, 44)\n",
      "(5915800, 55658.0, 55658.0, 44)\n",
      "(5980300, 55658.0, 55658.0, 44)\n",
      "(5982400, 55658.0, 55658.0, 44)\n",
      "(6214200, 55658.0, 55658.0, 44)\n",
      "(6084500, 55658.0, 55658.0, 44)\n",
      "(5965000, 55658.0, 55658.0, 44)\n",
      "|--- Runs for seed \n",
      "(8208300, 35608.0, 35608.0, 52)\n",
      "(8480500, 35608.0, 35608.0, 52)\n",
      "(8367400, 35608.0, 35608.0, 52)\n",
      "(8109800, 35608.0, 35608.0, 52)\n",
      "(8345600, 35608.0, 35608.0, 52)\n",
      "(8150900, 35608.0, 35608.0, 52)\n",
      "(8115400, 35608.0, 35608.0, 52)\n",
      "(8202600, 35608.0, 35608.0, 52)\n",
      "(7999800, 35608.0, 35608.0, 52)\n",
      "(8083600, 35608.0, 35608.0, 52)\n"
     ]
    }
   ],
   "source": [
    "print('____Rust Results___')\n",
    "for alg in rustBenchRes:\n",
    "    print('|--- Runs for algorithm ')\n",
    "    for prob in alg:\n",
    "        print('|--- Runs for seed ')\n",
    "        for seed in prob:\n",
    "            print(seed)\n",
    "# pTime=pRes.data.time[-1:][0]\n",
    "# rTime=rRes[-1:][0][0]/10**9\n",
    "# print(\"Python time: \"+ str(pTime))\n",
    "# print(\"Rust time: \"+ str(rTime))\n",
    "# print(\"Procentuele versnelling: \"+ str(((pTime-rTime)/pTime)*100))\n",
    "# print(\"Aantal keer sneller: \"+ str(pTime/rTime))\n"
   ]
  }
 ],
 "metadata": {
  "kernelspec": {
   "display_name": "Python 3",
   "language": "python",
   "name": "python3"
  },
  "language_info": {
   "codemirror_mode": {
    "name": "ipython",
    "version": 3
   },
   "file_extension": ".py",
   "mimetype": "text/x-python",
   "name": "python",
   "nbconvert_exporter": "python",
   "pygments_lexer": "ipython3",
   "version": "3.12.5"
  }
 },
 "nbformat": 4,
 "nbformat_minor": 2
}
