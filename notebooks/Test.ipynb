{
 "cells": [
  {
   "cell_type": "markdown",
   "source": [
    "## Imports"
   ],
   "metadata": {
    "collapsed": false
   },
   "id": "9faa60db933900b7"
  },
  {
   "cell_type": "code",
   "execution_count": 1,
   "outputs": [],
   "source": [
    "# read data\n",
    "from lclpy.io.tsplib import read_tsplib\n",
    "\n",
    "# move functions\n",
    "from lclpy.localsearch.move.array_reverse_order import ArrayReverseOrder\n",
    "from lclpy.localsearch.move.multi_neighbourhood import MultiNeighbourhood\n",
    "from lclpy.localsearch.move.array_swap import ArraySwap\n",
    "\n",
    "# evaluation function\n",
    "from lclpy.evaluation.bin_problem_eval import binProblemEval\n",
    "\n",
    "# Problem class\n",
    "from lclpy.problem.array_problem import ArrayProblem\n",
    "\n",
    "# termination functions\n",
    "from lclpy.termination.min_temperature_termination_criterion import MinTemperatureTerminationCriterion\n",
    "from lclpy.termination.max_seconds_termination_criterion import MaxSecondsTerminationCriterion\n",
    "\n",
    "# simulated annealing\n",
    "from lclpy.localsearch.simulatedannealing.simulated_annealing import SimulatedAnnealing\n",
    "from lclpy.localsearch.simulatedannealing.geometric_cooling_function import GeometricCoolingFunction\n",
    "from lclpy.localsearch.simulatedannealing.cnst_iterations_temp_function import CnstIterationsTempFunction\n",
    "\n",
    "# steepest descent \n",
    "from lclpy.localsearch.steepestdescent.steepest_descent import SteepestDescent\n",
    "\n",
    "# tabu search\n",
    "from lclpy.localsearch.tabusearch.sum_diff_state import SumDiffState\n",
    "from lclpy.localsearch.tabusearch.tabu_search import TabuSearch\n",
    "\n",
    "# variable neighbourhood search\n",
    "from lclpy.localsearch.vns.variable_neighbourhood import VariableNeighbourhood\n",
    "\n",
    "from numpy import random\n"
   ],
   "metadata": {
    "collapsed": false,
    "ExecuteTime": {
     "end_time": "2023-10-09T14:11:57.606080Z",
     "start_time": "2023-10-09T14:11:57.482326300Z"
    }
   },
   "id": "b21c0fd8c09967e2"
  },
  {
   "cell_type": "markdown",
   "source": [
    "## generating data"
   ],
   "metadata": {
    "collapsed": false
   },
   "id": "4daf1d9b4eb3548"
  },
  {
   "cell_type": "code",
   "execution_count": 2,
   "outputs": [],
   "source": [
    "data=random.randint(low=10, high=301,size=50)\n"
   ],
   "metadata": {
    "collapsed": false,
    "ExecuteTime": {
     "end_time": "2023-10-09T14:11:57.610078Z",
     "start_time": "2023-10-09T14:11:57.606080Z"
    }
   },
   "id": "4383e4cb4b996f5b"
  },
  {
   "cell_type": "markdown",
   "source": [
    "## simulated annealing"
   ],
   "metadata": {
    "collapsed": false
   },
   "id": "cc782baafd0447e6"
  },
  {
   "cell_type": "code",
   "execution_count": 3,
   "outputs": [
    {
     "ename": "TypeError",
     "evalue": "'<=' not supported between instances of 'NoneType' and 'int'",
     "output_type": "error",
     "traceback": [
      "\u001B[1;31m---------------------------------------------------------------------------\u001B[0m",
      "\u001B[1;31mTypeError\u001B[0m                                 Traceback (most recent call last)",
      "Cell \u001B[1;32mIn[3], line 10\u001B[0m\n\u001B[0;32m      7\u001B[0m i_for_temp \u001B[38;5;241m=\u001B[39m CnstIterationsTempFunction(\u001B[38;5;241m1500\u001B[39m)\n\u001B[0;32m      8\u001B[0m algorithm_1\u001B[38;5;241m=\u001B[39mSimulatedAnnealing(problem_1, termination_criterion_1,\n\u001B[0;32m      9\u001B[0m                                cooling_func, i_for_temp)\n\u001B[1;32m---> 10\u001B[0m results_1\u001B[38;5;241m=\u001B[39m\u001B[43malgorithm_1\u001B[49m\u001B[38;5;241;43m.\u001B[39;49m\u001B[43mrun\u001B[49m\u001B[43m(\u001B[49m\u001B[43m)\u001B[49m\n\u001B[0;32m     11\u001B[0m \u001B[38;5;28mprint\u001B[39m(results_1)\n",
      "File \u001B[1;32m~\\OneDrive - KU Leuven\\Ma\\Masterproef\\Project\\lclpy\\localsearch\\simulatedannealing\\simulated_annealing.py:259\u001B[0m, in \u001B[0;36mSimulatedAnnealing.run\u001B[1;34m(self)\u001B[0m\n\u001B[0;32m    256\u001B[0m delta \u001B[38;5;241m=\u001B[39m \u001B[38;5;28mself\u001B[39m\u001B[38;5;241m.\u001B[39m_problem\u001B[38;5;241m.\u001B[39mevaluate_move(move)\n\u001B[0;32m    258\u001B[0m \u001B[38;5;66;03m# accept or reject move\u001B[39;00m\n\u001B[1;32m--> 259\u001B[0m \u001B[38;5;28;01mif\u001B[39;00m \u001B[38;5;28;43mself\u001B[39;49m\u001B[38;5;241;43m.\u001B[39;49m\u001B[43m_is_improvement\u001B[49m\u001B[43m(\u001B[49m\u001B[38;5;241;43m0\u001B[39;49m\u001B[43m,\u001B[49m\u001B[43m \u001B[49m\u001B[43mdelta\u001B[49m\u001B[43m)\u001B[49m:\n\u001B[0;32m    260\u001B[0m \n\u001B[0;32m    261\u001B[0m     \u001B[38;5;66;03m# better than the current state --> accept\u001B[39;00m\n\u001B[0;32m    262\u001B[0m     \u001B[38;5;28mself\u001B[39m\u001B[38;5;241m.\u001B[39m_problem\u001B[38;5;241m.\u001B[39mmove(move)\n\u001B[0;32m    263\u001B[0m     base_value \u001B[38;5;241m=\u001B[39m base_value \u001B[38;5;241m+\u001B[39m delta\n",
      "File \u001B[1;32m~\\OneDrive - KU Leuven\\Ma\\Masterproef\\Project\\lclpy\\aidfunc\\is_improvement_func.py:141\u001B[0m, in \u001B[0;36msmaller_or_equal\u001B[1;34m(old_value, value)\u001B[0m\n\u001B[0;32m    109\u001B[0m \u001B[38;5;28;01mdef\u001B[39;00m \u001B[38;5;21msmaller_or_equal\u001B[39m(old_value, value):\n\u001B[0;32m    110\u001B[0m \u001B[38;5;250m    \u001B[39m\u001B[38;5;124;03m\"\"\"Checks if a value is an improvement. Smaller values are improvements.\u001B[39;00m\n\u001B[0;32m    111\u001B[0m \n\u001B[0;32m    112\u001B[0m \u001B[38;5;124;03m    Parameters\u001B[39;00m\n\u001B[1;32m   (...)\u001B[0m\n\u001B[0;32m    138\u001B[0m \n\u001B[0;32m    139\u001B[0m \u001B[38;5;124;03m    \"\"\"\u001B[39;00m\n\u001B[1;32m--> 141\u001B[0m     \u001B[38;5;28;01mreturn\u001B[39;00m \u001B[43mvalue\u001B[49m\u001B[43m \u001B[49m\u001B[38;5;241;43m<\u001B[39;49m\u001B[38;5;241;43m=\u001B[39;49m\u001B[43m \u001B[49m\u001B[43mold_value\u001B[49m\n",
      "\u001B[1;31mTypeError\u001B[0m: '<=' not supported between instances of 'NoneType' and 'int'"
     ]
    }
   ],
   "source": [
    "move_1=ArraySwap(data.size)\n",
    "evaluation_1=binProblemEval(300,data)\n",
    "problem_1 = ArrayProblem(evaluation_1,move_1,data.size)\n",
    "termination_criterion_1 = MinTemperatureTerminationCriterion()\n",
    "\n",
    "cooling_func = GeometricCoolingFunction(0.95)\n",
    "i_for_temp = CnstIterationsTempFunction(1500)\n",
    "algorithm_1=SimulatedAnnealing(problem_1, termination_criterion_1,\n",
    "                               cooling_func, i_for_temp)\n",
    "results_1=algorithm_1.run()\n",
    "print(results_1)"
   ],
   "metadata": {
    "collapsed": false,
    "ExecuteTime": {
     "end_time": "2023-10-09T14:11:57.990273700Z",
     "start_time": "2023-10-09T14:11:57.610078Z"
    }
   },
   "id": "578a1bf36d562bbe"
  },
  {
   "cell_type": "markdown",
   "source": [
    "## steepest descent"
   ],
   "metadata": {
    "collapsed": false
   },
   "id": "4a1c3ac2a9458a5f"
  },
  {
   "cell_type": "code",
   "execution_count": null,
   "outputs": [],
   "source": [
    "move_2 = ArraySwap(data.size)\n",
    "evaluation_2 = binProblemEval(300, data)\n",
    "problem_2 = ArrayProblem(evaluation_2, move_2, data.size)\n",
    "\n",
    "algorithm_2 = SteepestDescent(problem_2)\n",
    "results_2 = algorithm_2.run()\n",
    "print(results_2)"
   ],
   "metadata": {
    "collapsed": false,
    "ExecuteTime": {
     "start_time": "2023-10-09T14:11:57.989275600Z"
    }
   },
   "id": "187aab556aa424d2"
  },
  {
   "cell_type": "markdown",
   "source": [
    "## tabu search"
   ],
   "metadata": {
    "collapsed": false
   },
   "id": "3ac8775a37f9381e"
  },
  {
   "cell_type": "code",
   "execution_count": null,
   "outputs": [],
   "source": [
    "move_3 = ArraySwap(data.size)\n",
    "\n",
    "evaluation_3 = binProblemEval(300, data)\n",
    "\n",
    "problem_3 = ArrayProblem(evaluation_3, move_3, data.size)\n",
    "\n",
    "termination_3 = MaxSecondsTerminationCriterion(10)\n",
    "\n",
    "diff_state_3 = SumDiffState()\n",
    "\n",
    "algorithm_3 = TabuSearch(problem_3, termination_3, diff_state_3, 11)\n",
    "results_3 = algorithm_3.run()\n",
    "print(results_3)"
   ],
   "metadata": {
    "collapsed": false,
    "ExecuteTime": {
     "start_time": "2023-10-09T14:11:57.991270500Z"
    }
   },
   "id": "d38d1ffbcef70180"
  },
  {
   "cell_type": "markdown",
   "source": [
    "## variable neighbourhood search"
   ],
   "metadata": {
    "collapsed": false
   },
   "id": "7ea997598a186f9a"
  },
  {
   "cell_type": "code",
   "execution_count": null,
   "outputs": [],
   "source": [
    "move_a = ArraySwap(data.size)\n",
    "move_b = ArrayReverseOrder(data.size)\n",
    "\n",
    "moves = [move_a, move_b]\n",
    "\n",
    "move_4 = MultiNeighbourhood(moves)\n",
    "\n",
    "evaluation_4 = binProblemEval(300, data)\n",
    "\n",
    "problem_4 = ArrayProblem(evaluation_4, move_4, data.size)\n",
    "\n",
    "\n",
    "algorithm_4 = VariableNeighbourhood(problem_4)\n",
    "results_4 = algorithm_4.run()\n",
    "print(results_4)"
   ],
   "metadata": {
    "collapsed": false,
    "ExecuteTime": {
     "end_time": "2023-10-09T14:11:57.994262200Z",
     "start_time": "2023-10-09T14:11:57.992268600Z"
    }
   },
   "id": "1357aad5d5d397b7"
  },
  {
   "cell_type": "markdown",
   "source": [],
   "metadata": {
    "collapsed": false
   },
   "id": "5bb3798ab3ab3b40"
  }
 ],
 "metadata": {
  "kernelspec": {
   "display_name": "Python 3",
   "language": "python",
   "name": "python3"
  },
  "language_info": {
   "codemirror_mode": {
    "name": "ipython",
    "version": 2
   },
   "file_extension": ".py",
   "mimetype": "text/x-python",
   "name": "python",
   "nbconvert_exporter": "python",
   "pygments_lexer": "ipython2",
   "version": "2.7.6"
  }
 },
 "nbformat": 4,
 "nbformat_minor": 5
}
