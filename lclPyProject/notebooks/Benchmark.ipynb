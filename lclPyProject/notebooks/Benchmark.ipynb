{
 "cells": [
  {
   "cell_type": "code",
   "execution_count": 39,
   "id": "initial_id",
   "metadata": {
    "collapsed": true,
    "ExecuteTime": {
     "end_time": "2023-12-04T15:00:06.567134Z",
     "start_time": "2023-12-04T15:00:06.553111Z"
    }
   },
   "outputs": [],
   "source": [
    "# reading data\n",
    "from lclpy.io.tsplib import read_tsplib\n",
    "\n",
    "# termination criterion\n",
    "from lclpy.termination.max_seconds_termination_criterion import MaxSecondsTerminationCriterion\n",
    "\n",
    "# move functions\n",
    "from lclpy.localsearch.move.tsp_array_swap import TspArraySwap\n",
    "from lclpy.localsearch.move.array_reverse_order import ArrayReverseOrder\n",
    "\n",
    "# evaluation function\n",
    "from lclpy.evaluation.tsp_evaluation_function import TspEvaluationFunction\n",
    "\n",
    "# Problem class\n",
    "from lclpy.problem.array_problem import ArrayProblem\n",
    "\n",
    "# simulated annealing\n",
    "from lclpy.localsearch.simulatedannealing.simulated_annealing import SimulatedAnnealing\n",
    "from lclpy.localsearch.simulatedannealing.geometric_cooling_function import GeometricCoolingFunction\n",
    "from lclpy.localsearch.simulatedannealing.cnst_iterations_temp_function import CnstIterationsTempFunction\n",
    "\n",
    "# steepest descent\n",
    "from lclpy.localsearch.steepestdescent.steepest_descent import SteepestDescent\n",
    "\n",
    "# benchmark\n",
    "from lclpy.benchmark.benchmark import benchmark\n",
    "# benchmark statistics\n",
    "import lclpy.benchmark.statistics as stat \n",
    "# note the \"as stat\", \n",
    "# python already has a package named \"statistics\" in it's standard library, \n",
    "# because of this it's better to import the package under a different name than statistics\n",
    "\n",
    "# plotting\n",
    "from lclpy.plot.plot import plot\n",
    "from lclpy.plot.plot import plot_single_stat\n",
    "import numpy"
   ]
  },
  {
   "cell_type": "code",
   "execution_count": 40,
   "outputs": [],
   "source": [
    "distance_matrix=numpy.loadtxt('data/distanceMatrix',dtype=int)\n",
    "\n",
    "size = distance_matrix.shape[0]"
   ],
   "metadata": {
    "collapsed": false,
    "ExecuteTime": {
     "end_time": "2023-12-04T15:00:06.572140800Z",
     "start_time": "2023-12-04T15:00:06.557119500Z"
    }
   },
   "id": "54fc47d2f25b214b"
  },
  {
   "cell_type": "code",
   "execution_count": 41,
   "outputs": [],
   "source": [
    "termination_criterion = MaxSecondsTerminationCriterion(10)"
   ],
   "metadata": {
    "collapsed": false,
    "ExecuteTime": {
     "end_time": "2023-12-04T15:00:06.602372200Z",
     "start_time": "2023-12-04T15:00:06.564033500Z"
    }
   },
   "id": "7c6885fa3e60007c"
  },
  {
   "cell_type": "code",
   "execution_count": 42,
   "outputs": [],
   "source": [
    "# move_1 = TspArraySwap(size)\n",
    "move_1 = ArrayReverseOrder(size)\n",
    "evaluation_1 = TspEvaluationFunction(distance_matrix, move_1)\n",
    "problem_1 = ArrayProblem(evaluation_1, move_1, size)\n",
    "\n",
    "problem_tuple = (problem_1,)"
   ],
   "metadata": {
    "collapsed": false,
    "ExecuteTime": {
     "end_time": "2023-12-04T15:00:06.603371800Z",
     "start_time": "2023-12-04T15:00:06.571142Z"
    }
   },
   "id": "8e29f4e8e1219782"
  },
  {
   "cell_type": "code",
   "execution_count": 43,
   "outputs": [],
   "source": [
    "cooling_func = GeometricCoolingFunction(0.95)\n",
    "i_for_temp = CnstIterationsTempFunction(1500)\n",
    "algorithm_1 = SimulatedAnnealing(None, None,cooling_func, i_for_temp, benchmarking=True)\n",
    "\n",
    "algorithm_2 = SteepestDescent(None, benchmarking=True)\n",
    "alg_tuple = (algorithm_1,algorithm_2)"
   ],
   "metadata": {
    "collapsed": false,
    "ExecuteTime": {
     "end_time": "2023-12-04T15:00:06.603371800Z",
     "start_time": "2023-12-04T15:00:06.581983200Z"
    }
   },
   "id": "b6076ffbfc32e4ce"
  },
  {
   "cell_type": "code",
   "execution_count": 44,
   "outputs": [
    {
     "name": "stdout",
     "output_type": "stream",
     "text": [
      "____Benchmark started___\n",
      "|---  Starting runs for algorithm 0\n",
      "--|---  Starting runs for problem 0\n",
      "----|---  Starting run for seed 0\n",
      "Improvement : 156370\n",
      "Improvement : 155551\n",
      "Improvement : 152464\n",
      "Improvement : 151250\n",
      "Improvement : 146941\n",
      "Improvement : 143452\n",
      "Improvement : 143343\n",
      "Improvement : 143071\n",
      "Improvement : 142519\n",
      "Improvement : 136636\n",
      "Improvement : 134935\n",
      "Improvement : 134777\n",
      "Improvement : 129437\n",
      "Improvement : 129011\n",
      "Improvement : 126840\n",
      "Improvement : 125179\n",
      "Improvement : 125001\n",
      "Improvement : 123737\n",
      "Improvement : 121521\n",
      "Improvement : 121181\n",
      "Improvement : 119818\n",
      "Improvement : 118300\n",
      "Improvement : 115673\n",
      "Improvement : 114236\n",
      "Improvement : 113129\n",
      "Improvement : 112425\n",
      "Improvement : 103949\n",
      "Improvement : 103917\n",
      "Improvement : 101011\n",
      "Improvement : 100195\n",
      "Improvement : 99893\n",
      "Improvement : 98879\n",
      "Improvement : 97051\n",
      "Improvement : 96818\n",
      "Improvement : 95993\n",
      "Improvement : 95746\n",
      "Improvement : 93617\n",
      "Improvement : 92953\n",
      "Improvement : 92382\n",
      "Improvement : 90842\n",
      "Improvement : 90354\n",
      "Improvement : 89457\n",
      "Improvement : 89355\n",
      "Improvement : 88857\n",
      "Improvement : 88653\n",
      "Improvement : 88202\n",
      "Improvement : 88144\n",
      "Improvement : 88045\n",
      "Improvement : 85544\n",
      "Improvement : 85366\n",
      "Improvement : 84442\n",
      "Improvement : 82331\n",
      "Improvement : 81809\n",
      "Improvement : 80559\n",
      "Improvement : 79673\n",
      "Improvement : 78839\n",
      "Improvement : 78742\n",
      "Improvement : 78645\n",
      "Improvement : 78051\n",
      "Improvement : 77661\n",
      "Improvement : 77022\n",
      "Improvement : 76351\n",
      "Improvement : 76227\n",
      "Improvement : 75999\n",
      "Improvement : 75982\n",
      "Improvement : 75764\n",
      "Improvement : 75583\n",
      "Improvement : 74355\n",
      "Improvement : 73955\n",
      "Improvement : 71350\n",
      "Improvement : 69862\n",
      "Improvement : 69404\n",
      "Improvement : 69259\n",
      "Improvement : 68286\n",
      "Improvement : 67574\n",
      "Improvement : 67557\n",
      "Improvement : 65863\n",
      "Improvement : 65664\n",
      "Improvement : 63521\n",
      "Improvement : 62973\n",
      "Improvement : 62324\n",
      "Improvement : 62162\n",
      "Improvement : 62160\n",
      "Improvement : 62000\n",
      "Improvement : 60931\n",
      "Improvement : 60852\n",
      "Improvement : 60251\n",
      "Improvement : 59982\n",
      "Improvement : 58653\n",
      "Improvement : 57528\n",
      "Improvement : 56325\n",
      "Improvement : 55984\n",
      "Improvement : 55884\n",
      "Improvement : 54978\n",
      "Improvement : 54837\n",
      "Improvement : 54792\n",
      "Improvement : 54627\n",
      "Improvement : 54300\n",
      "Improvement : 53595\n",
      "Improvement : 53574\n",
      "Improvement : 53531\n",
      "Improvement : 52858\n",
      "Improvement : 52590\n",
      "Improvement : 52048\n",
      "Improvement : 51683\n",
      "Improvement : 50834\n",
      "Improvement : 49685\n",
      "Improvement : 49081\n",
      "Improvement : 48446\n",
      "Improvement : 48171\n",
      "Improvement : 48170\n",
      "Improvement : 47622\n",
      "Improvement : 47128\n",
      "Improvement : 46567\n",
      "Improvement : 46442\n",
      "Improvement : 46069\n",
      "Improvement : 45992\n",
      "Improvement : 45582\n",
      "Improvement : 44844\n",
      "Improvement : 44799\n",
      "Improvement : 44690\n",
      "Improvement : 44621\n",
      "Improvement : 44337\n",
      "Improvement : 43696\n",
      "Improvement : 43191\n",
      "Improvement : 42830\n",
      "Improvement : 42600\n",
      "Improvement : 42415\n",
      "Improvement : 41990\n",
      "Improvement : 41434\n",
      "Improvement : 40874\n",
      "Improvement : 40816\n",
      "Improvement : 40440\n",
      "Improvement : 40163\n",
      "Improvement : 38888\n",
      "Improvement : 38460\n",
      "Improvement : 38262\n",
      "Improvement : 38130\n",
      "Improvement : 37698\n",
      "Improvement : 37588\n",
      "Improvement : 37365\n",
      "Improvement : 37290\n",
      "Improvement : 37262\n",
      "Improvement : 37250\n",
      "Improvement : 37077\n",
      "Improvement : 37028\n",
      "Improvement : 36934\n",
      "Improvement : 36829\n",
      "Improvement : 36811\n",
      "Improvement : 36693\n",
      "Improvement : 36512\n",
      "Improvement : 36227\n",
      "Improvement : 36183\n",
      "Improvement : 36152\n",
      "Improvement : 36057\n",
      "Improvement : 35953\n",
      "Improvement : 35888\n",
      "Improvement : 35862\n",
      "Improvement : 35856\n",
      "Improvement : 35748\n",
      "Improvement : 35746\n",
      "Improvement : 35623\n",
      "Improvement : 35392\n",
      "Improvement : 35347\n",
      "Improvement : 35231\n",
      "Improvement : 35108\n",
      "Improvement : 34824\n",
      "Improvement : 34585\n",
      "Improvement : 34570\n",
      "Improvement : 34445\n",
      "Improvement : 34428\n",
      "Improvement : 34282\n",
      "Improvement : 34198\n",
      "Improvement : 34183\n",
      "Improvement : 34083\n",
      "Improvement : 34068\n",
      "----|--- Completed run for seed 0\n",
      "--|--- Completed runs for problem 0\n",
      "|--- Completed runs for algorithm 0\n",
      "|---  Starting runs for algorithm 1\n",
      "--|---  Starting runs for problem 1\n",
      "----|---  Starting run for seed 0\n",
      "Improvement : 144718\n",
      "Improvement : 132710\n",
      "Improvement : 122685\n",
      "Improvement : 114579\n",
      "Improvement : 105198\n",
      "Improvement : 98861\n",
      "Improvement : 93194\n",
      "Improvement : 87962\n",
      "Improvement : 83422\n",
      "Improvement : 78925\n",
      "Improvement : 74591\n",
      "Improvement : 71871\n",
      "Improvement : 69244\n",
      "Improvement : 66759\n",
      "Improvement : 64432\n",
      "Improvement : 62230\n",
      "Improvement : 60051\n",
      "Improvement : 57568\n",
      "Improvement : 55786\n",
      "Improvement : 54012\n",
      "Improvement : 52299\n",
      "Improvement : 50599\n",
      "Improvement : 48962\n",
      "Improvement : 47561\n",
      "Improvement : 45914\n",
      "Improvement : 44797\n",
      "Improvement : 43694\n",
      "Improvement : 42684\n",
      "Improvement : 41729\n",
      "Improvement : 40882\n",
      "Improvement : 40249\n",
      "Improvement : 39494\n",
      "Improvement : 38921\n",
      "Improvement : 38527\n",
      "Improvement : 38270\n",
      "Improvement : 38052\n",
      "Improvement : 37845\n",
      "Improvement : 37735\n",
      "Improvement : 37666\n",
      "Improvement : 37603\n",
      "Improvement : 37493\n",
      "Improvement : 37432\n",
      "Improvement : 37163\n",
      "Improvement : 37122\n",
      "Improvement : 36997\n",
      "Improvement : 36962\n",
      "Improvement : 36537\n",
      "Improvement : 36309\n",
      "Improvement : 36303\n",
      "Improvement : 35608\n",
      "----|--- Completed run for seed 0\n",
      "--|--- Completed runs for problem 1\n",
      "|--- Completed runs for algorithm 1\n",
      "____Benchmark ended___\n"
     ]
    }
   ],
   "source": [
    "result=benchmark(problem_tuple, alg_tuple, termination_criterion, 1) "
   ],
   "metadata": {
    "collapsed": false,
    "ExecuteTime": {
     "end_time": "2023-12-04T15:00:17.777725800Z",
     "start_time": "2023-12-04T15:00:06.587373200Z"
    }
   },
   "id": "64224a0a91df03f0"
  },
  {
   "cell_type": "code",
   "execution_count": 45,
   "outputs": [
    {
     "name": "stdout",
     "output_type": "stream",
     "text": [
      "10.000130799977342\n"
     ]
    }
   ],
   "source": [
    "bestPreviousValue=0;\n",
    "current=result[0][0][0].data\n",
    "# voor iteraties simann\n",
    "# for i in range (len(current.iteration)):\n",
    "#     if bestPreviousValue!=current.best_value[i]:\n",
    "#         print(f'{current.iteration[i]}; {current.best_value[i]}')\n",
    "#         bestPreviousValue=current.best_value[i]\n",
    "current=result[1][0][0].data\n",
    "# voor iteraties steepst\n",
    "# for i in range (len(current.iteration)):\n",
    "#     if bestPreviousValue!=current.value[i]:\n",
    "#         print(f'{current.iteration[i]}; {current.value[i]}')\n",
    "#         bestPreviousValue=current.value[i]\n",
    "current=result[0][0][0].data\n",
    "# voor tijd\n",
    "print(current.time[-1])\n",
    "\n"
   ],
   "metadata": {
    "collapsed": false,
    "ExecuteTime": {
     "end_time": "2023-12-04T15:00:17.778732600Z",
     "start_time": "2023-12-04T15:00:17.776100Z"
    }
   },
   "id": "73ac231372feea98"
  },
  {
   "cell_type": "code",
   "execution_count": 46,
   "outputs": [
    {
     "ename": "StatisticsError",
     "evalue": "stdev requires at least two data points",
     "output_type": "error",
     "traceback": [
      "\u001B[1;31m---------------------------------------------------------------------------\u001B[0m",
      "\u001B[1;31mStatisticsError\u001B[0m                           Traceback (most recent call last)",
      "Cell \u001B[1;32mIn[46], line 1\u001B[0m\n\u001B[1;32m----> 1\u001B[0m various\u001B[38;5;241m=\u001B[39m\u001B[43mstat\u001B[49m\u001B[38;5;241;43m.\u001B[39;49m\u001B[43mstat\u001B[49m\u001B[43m(\u001B[49m\u001B[43mresult\u001B[49m\u001B[43m)\u001B[49m\n",
      "File \u001B[1;32m~\\Documents\\Masterproef\\lclPyProject\\lclpy\\benchmark\\statistics.py:459\u001B[0m, in \u001B[0;36mstat\u001B[1;34m(benchmark_result, algorithm_names, problem_names)\u001B[0m\n\u001B[0;32m    455\u001B[0m _mean \u001B[38;5;241m=\u001B[39m mean(benchmark_result)\n\u001B[0;32m    457\u001B[0m _median \u001B[38;5;241m=\u001B[39m median(benchmark_result)\n\u001B[1;32m--> 459\u001B[0m _stdev \u001B[38;5;241m=\u001B[39m \u001B[43mstdev\u001B[49m\u001B[43m(\u001B[49m\u001B[43mbenchmark_result\u001B[49m\u001B[43m)\u001B[49m\n\u001B[0;32m    461\u001B[0m _biggest \u001B[38;5;241m=\u001B[39m biggest(benchmark_result)\n\u001B[0;32m    463\u001B[0m _smallest \u001B[38;5;241m=\u001B[39m smallest(benchmark_result)\n",
      "File \u001B[1;32m~\\Documents\\Masterproef\\lclPyProject\\lclpy\\benchmark\\statistics.py:112\u001B[0m, in \u001B[0;36mstdev\u001B[1;34m(benchmark_result)\u001B[0m\n\u001B[0;32m     95\u001B[0m \u001B[38;5;28;01mdef\u001B[39;00m \u001B[38;5;21mstdev\u001B[39m(benchmark_result):\n\u001B[0;32m     96\u001B[0m \u001B[38;5;250m    \u001B[39m\u001B[38;5;124;03m\"\"\"A function to calculate the standard deviation of the best_values.\u001B[39;00m\n\u001B[0;32m     97\u001B[0m \n\u001B[0;32m     98\u001B[0m \u001B[38;5;124;03m    Parameters\u001B[39;00m\n\u001B[1;32m   (...)\u001B[0m\n\u001B[0;32m    110\u001B[0m \n\u001B[0;32m    111\u001B[0m \u001B[38;5;124;03m    \"\"\"\u001B[39;00m\n\u001B[1;32m--> 112\u001B[0m     \u001B[38;5;28;01mreturn\u001B[39;00m \u001B[43m_func_on_best_values\u001B[49m\u001B[43m(\u001B[49m\u001B[43mbenchmark_result\u001B[49m\u001B[43m,\u001B[49m\u001B[43m \u001B[49m\u001B[43mstatistics\u001B[49m\u001B[38;5;241;43m.\u001B[39;49m\u001B[43mstdev\u001B[49m\u001B[43m)\u001B[49m\n",
      "File \u001B[1;32m~\\Documents\\Masterproef\\lclPyProject\\lclpy\\benchmark\\statistics.py:44\u001B[0m, in \u001B[0;36m_func_on_best_values\u001B[1;34m(benchmark_result, func)\u001B[0m\n\u001B[0;32m     41\u001B[0m         data\u001B[38;5;241m=\u001B[39m\u001B[38;5;28mmap\u001B[39m(position_getter, problem)\n\u001B[0;32m     42\u001B[0m         data\u001B[38;5;241m=\u001B[39m[x\u001B[38;5;241m.\u001B[39mitem() \u001B[38;5;28;01mfor\u001B[39;00m x \u001B[38;5;129;01min\u001B[39;00m data]\n\u001B[1;32m---> 44\u001B[0m         aid_list\u001B[38;5;241m.\u001B[39mappend(\u001B[43mfunc\u001B[49m\u001B[43m(\u001B[49m\u001B[43mdata\u001B[49m\u001B[43m)\u001B[49m)\n\u001B[0;32m     46\u001B[0m     result\u001B[38;5;241m.\u001B[39mappend(aid_list)\n\u001B[0;32m     48\u001B[0m \u001B[38;5;28;01mreturn\u001B[39;00m numpy\u001B[38;5;241m.\u001B[39marray(result)\n",
      "File \u001B[1;32m~\\AppData\\Local\\Programs\\Python\\Python312\\Lib\\statistics.py:970\u001B[0m, in \u001B[0;36mstdev\u001B[1;34m(data, xbar)\u001B[0m\n\u001B[0;32m    968\u001B[0m T, ss, c, n \u001B[38;5;241m=\u001B[39m _ss(data, xbar)\n\u001B[0;32m    969\u001B[0m \u001B[38;5;28;01mif\u001B[39;00m n \u001B[38;5;241m<\u001B[39m \u001B[38;5;241m2\u001B[39m:\n\u001B[1;32m--> 970\u001B[0m     \u001B[38;5;28;01mraise\u001B[39;00m StatisticsError(\u001B[38;5;124m'\u001B[39m\u001B[38;5;124mstdev requires at least two data points\u001B[39m\u001B[38;5;124m'\u001B[39m)\n\u001B[0;32m    971\u001B[0m mss \u001B[38;5;241m=\u001B[39m ss \u001B[38;5;241m/\u001B[39m (n \u001B[38;5;241m-\u001B[39m \u001B[38;5;241m1\u001B[39m)\n\u001B[0;32m    972\u001B[0m \u001B[38;5;28;01mif\u001B[39;00m \u001B[38;5;28missubclass\u001B[39m(T, Decimal):\n",
      "\u001B[1;31mStatisticsError\u001B[0m: stdev requires at least two data points"
     ]
    }
   ],
   "source": [
    "various=stat.stat(result)"
   ],
   "metadata": {
    "collapsed": false,
    "ExecuteTime": {
     "end_time": "2023-12-04T15:00:17.849523500Z",
     "start_time": "2023-12-04T15:00:17.780734100Z"
    }
   },
   "id": "b3c8f7a0a41d6c6f"
  },
  {
   "cell_type": "code",
   "execution_count": null,
   "outputs": [],
   "source": [
    "# statistics time\n",
    "\n",
    "print(various.time.mean)\n",
    "print(various.time.median)\n",
    "print(various.time.stdev) # standard deviation\n",
    "print(various.time.max)\n",
    "print(various.time.min)"
   ],
   "metadata": {
    "collapsed": false,
    "ExecuteTime": {
     "start_time": "2023-12-04T15:00:17.816524300Z"
    }
   },
   "id": "1a72cca93a4ed63"
  },
  {
   "cell_type": "code",
   "execution_count": null,
   "outputs": [],
   "source": [
    "# statistics iterations\n",
    "\n",
    "print(various.iterations.mean)\n",
    "print(various.iterations.median)\n",
    "print(various.iterations.stdev) # standard deviation\n",
    "print(various.iterations.max)\n",
    "print(various.iterations.min)"
   ],
   "metadata": {
    "collapsed": false,
    "ExecuteTime": {
     "start_time": "2023-12-04T15:00:17.818526100Z"
    }
   },
   "id": "157f23c7446d35e0"
  }
 ],
 "metadata": {
  "kernelspec": {
   "display_name": "Python 3",
   "language": "python",
   "name": "python3"
  },
  "language_info": {
   "codemirror_mode": {
    "name": "ipython",
    "version": 2
   },
   "file_extension": ".py",
   "mimetype": "text/x-python",
   "name": "python",
   "nbconvert_exporter": "python",
   "pygments_lexer": "ipython2",
   "version": "2.7.6"
  }
 },
 "nbformat": 4,
 "nbformat_minor": 5
}
