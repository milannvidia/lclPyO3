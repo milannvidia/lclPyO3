{
 "cells": [
  {
   "cell_type": "markdown",
   "source": [
    "## Imports"
   ],
   "metadata": {
    "collapsed": false
   },
   "id": "441807c8522c20e"
  },
  {
   "cell_type": "code",
   "execution_count": 1,
   "outputs": [],
   "source": [
    "# read data\n",
    "from lclpy.io.tsplib import read_tsplib\n",
    "\n",
    "# move functions\n",
    "from lclpy.localsearch.move.array_reverse_order import ArrayReverseOrder\n",
    "from lclpy.localsearch.move.multi_neighbourhood import MultiNeighbourhood\n",
    "from lclpy.localsearch.move.array_swap import ArraySwap\n",
    "\n",
    "# evaluation function\n",
    "from lclpy.evaluation.bin_problem_eval import binProblemEval\n",
    "\n",
    "# Problem class\n",
    "from lclpy.problem.array_problem import ArrayProblem\n",
    "\n",
    "# termination functions\n",
    "from lclpy.termination.min_temperature_termination_criterion import MinTemperatureTerminationCriterion\n",
    "from lclpy.termination.max_seconds_termination_criterion import MaxSecondsTerminationCriterion\n",
    "\n",
    "# simulated annealing\n",
    "from lclpy.localsearch.simulatedannealing.simulated_annealing import SimulatedAnnealing\n",
    "from lclpy.localsearch.simulatedannealing.geometric_cooling_function import GeometricCoolingFunction\n",
    "from lclpy.localsearch.simulatedannealing.cnst_iterations_temp_function import CnstIterationsTempFunction\n",
    "\n",
    "# steepest descent \n",
    "from lclpy.localsearch.steepestdescent.steepest_descent import SteepestDescent\n",
    "\n",
    "# tabu search\n",
    "from lclpy.localsearch.tabusearch.sum_diff_state import SumDiffState\n",
    "from lclpy.localsearch.tabusearch.tabu_search import TabuSearch\n",
    "\n",
    "# variable neighbourhood search\n",
    "from lclpy.localsearch.vns.variable_neighbourhood import VariableNeighbourhood\n",
    "\n",
    "from numpy import random\n"
   ],
   "metadata": {
    "collapsed": false,
    "ExecuteTime": {
     "end_time": "2023-11-27T13:54:49.524120200Z",
     "start_time": "2023-11-27T13:54:49.326297400Z"
    }
   },
   "id": "b21c0fd8c09967e2"
  },
  {
   "cell_type": "markdown",
   "source": [
    "## generating data"
   ],
   "metadata": {
    "collapsed": false
   },
   "id": "4daf1d9b4eb3548"
  },
  {
   "cell_type": "code",
   "execution_count": 2,
   "outputs": [],
   "source": [
    "data=random.randint(low=10, high=301,size=50)\n"
   ],
   "metadata": {
    "collapsed": false,
    "ExecuteTime": {
     "end_time": "2023-11-27T13:54:49.529358200Z",
     "start_time": "2023-11-27T13:54:49.526121400Z"
    }
   },
   "id": "4383e4cb4b996f5b"
  },
  {
   "cell_type": "markdown",
   "source": [
    "## simulated annealing"
   ],
   "metadata": {
    "collapsed": false
   },
   "id": "cc782baafd0447e6"
  },
  {
   "cell_type": "code",
   "execution_count": 3,
   "outputs": [
    {
     "name": "stdout",
     "output_type": "stream",
     "text": [
      "Improvement : 37\n",
      "Improvement : 36\n",
      "Improvement : 35\n",
      "Improvement : 34\n",
      "Improvement : 33\n",
      "Results(best_order=array([48, 11, 17, 19, 16, 10, 35, 27, 22,  8, 32, 24, 18, 20,  1, 12, 49,\n",
      "        3, 46, 36, 33, 26, 39, 15,  2, 14, 45, 41, 29, 25, 47, 43, 34,  7,\n",
      "        0, 42, 37,  6, 21, 31,  9, 23,  4,  5, 38, 13, 30, 28, 44, 40]), best_value=33, data=None)\n"
     ]
    }
   ],
   "source": [
    "move_1=ArraySwap(data.size)\n",
    "evaluation_1=binProblemEval(300,data)\n",
    "problem_1 = ArrayProblem(evaluation_1,move_1,data.size)\n",
    "termination_criterion_1 = MinTemperatureTerminationCriterion()\n",
    "\n",
    "cooling_func = GeometricCoolingFunction(0.95)\n",
    "i_for_temp = CnstIterationsTempFunction(1500)\n",
    "algorithm_1=SimulatedAnnealing(problem_1, termination_criterion_1,\n",
    "                               cooling_func, i_for_temp)\n",
    "results_1=algorithm_1.run()\n",
    "print(results_1)"
   ],
   "metadata": {
    "collapsed": false,
    "ExecuteTime": {
     "end_time": "2023-11-27T13:54:54.728987200Z",
     "start_time": "2023-11-27T13:54:49.530357900Z"
    }
   },
   "id": "578a1bf36d562bbe"
  },
  {
   "cell_type": "markdown",
   "source": [
    "## steepest descent"
   ],
   "metadata": {
    "collapsed": false
   },
   "id": "4a1c3ac2a9458a5f"
  },
  {
   "cell_type": "code",
   "execution_count": 4,
   "outputs": [
    {
     "name": "stdout",
     "output_type": "stream",
     "text": [
      "Improvement : 37\n",
      "Improvement : 36\n",
      "Improvement : 35\n",
      "Improvement : 34\n",
      "Improvement : 33\n",
      "Improvement : 32\n",
      "Results(best_order=array([17, 15,  2,  3,  4,  5,  6, 27, 24,  9, 10, 49, 12, 13, 14,  1, 16,\n",
      "        0, 18, 19, 20, 21, 22, 23,  8, 25, 26,  7, 28, 29, 30, 31, 32, 33,\n",
      "       34, 35, 36, 37, 38, 43, 40, 41, 42, 39, 44, 45, 46, 47, 48, 11]), best_value=32, data=None)\n"
     ]
    }
   ],
   "source": [
    "move_2 = ArraySwap(data.size)\n",
    "evaluation_2 = binProblemEval(300, data)\n",
    "problem_2 = ArrayProblem(evaluation_2, move_2, data.size)\n",
    "\n",
    "algorithm_2 = SteepestDescent(problem_2)\n",
    "results_2 = algorithm_2.run()\n",
    "print(results_2)"
   ],
   "metadata": {
    "collapsed": false,
    "ExecuteTime": {
     "end_time": "2023-11-27T13:54:55.002709600Z",
     "start_time": "2023-11-27T13:54:54.724990700Z"
    }
   },
   "id": "187aab556aa424d2"
  },
  {
   "cell_type": "markdown",
   "source": [
    "## tabu search"
   ],
   "metadata": {
    "collapsed": false
   },
   "id": "3ac8775a37f9381e"
  },
  {
   "cell_type": "code",
   "execution_count": 5,
   "outputs": [
    {
     "name": "stdout",
     "output_type": "stream",
     "text": [
      "Improvement : 37\n",
      "Improvement : 36\n",
      "Improvement : 35\n",
      "Improvement : 34\n",
      "Improvement : 33\n",
      "Improvement : 32\n",
      "Improvement : 31\n",
      "Results(best_order=array([35, 19,  1,  3, 22, 15,  4, 49,  6,  5, 18,  9,  2, 13, 24, 10, 14,\n",
      "        0, 27, 17, 16, 20, 21, 23,  8, 25, 26,  7, 28, 29, 30, 31, 32, 33,\n",
      "       34, 12, 36, 37, 38, 43, 40, 41, 42, 39, 44, 45, 46, 47, 48, 11]), best_value=31, data=None)\n"
     ]
    }
   ],
   "source": [
    "move_3 = ArraySwap(data.size)\n",
    "\n",
    "evaluation_3 = binProblemEval(300, data)\n",
    "\n",
    "problem_3 = ArrayProblem(evaluation_3, move_3, data.size)\n",
    "\n",
    "termination_3 = MaxSecondsTerminationCriterion(10)\n",
    "\n",
    "diff_state_3 = SumDiffState()\n",
    "\n",
    "algorithm_3 = TabuSearch(problem_3, termination_3, diff_state_3, 11)\n",
    "results_3 = algorithm_3.run()\n",
    "print(results_3)"
   ],
   "metadata": {
    "collapsed": false,
    "ExecuteTime": {
     "end_time": "2023-11-27T13:55:05.030436700Z",
     "start_time": "2023-11-27T13:54:55.000705900Z"
    }
   },
   "id": "d38d1ffbcef70180"
  },
  {
   "cell_type": "markdown",
   "source": [
    "## variable neighbourhood search"
   ],
   "metadata": {
    "collapsed": false
   },
   "id": "7ea997598a186f9a"
  },
  {
   "cell_type": "code",
   "execution_count": 6,
   "outputs": [
    {
     "ename": "IndexError",
     "evalue": "too many indices for array: array is 1-dimensional, but 2 were indexed",
     "output_type": "error",
     "traceback": [
      "\u001B[1;31m---------------------------------------------------------------------------\u001B[0m",
      "\u001B[1;31mIndexError\u001B[0m                                Traceback (most recent call last)",
      "Cell \u001B[1;32mIn[6], line 14\u001B[0m\n\u001B[0;32m     10\u001B[0m problem_4 \u001B[38;5;241m=\u001B[39m ArrayProblem(evaluation_4, move_4, data\u001B[38;5;241m.\u001B[39msize)\n\u001B[0;32m     13\u001B[0m algorithm_4 \u001B[38;5;241m=\u001B[39m VariableNeighbourhood(problem_4)\n\u001B[1;32m---> 14\u001B[0m results_4 \u001B[38;5;241m=\u001B[39m \u001B[43malgorithm_4\u001B[49m\u001B[38;5;241;43m.\u001B[39;49m\u001B[43mrun\u001B[49m\u001B[43m(\u001B[49m\u001B[43m)\u001B[49m\n\u001B[0;32m     15\u001B[0m \u001B[38;5;28mprint\u001B[39m(results_4)\n",
      "File \u001B[1;32m~\\Documents\\Masterproef\\lclPyProject\\lclpy\\localsearch\\vns\\variable_neighbourhood.py:253\u001B[0m, in \u001B[0;36mVariableNeighbourhood.run\u001B[1;34m(self)\u001B[0m\n\u001B[0;32m    249\u001B[0m best_found_move \u001B[38;5;241m=\u001B[39m \u001B[38;5;28;01mNone\u001B[39;00m\n\u001B[0;32m    251\u001B[0m \u001B[38;5;28;01mfor\u001B[39;00m move \u001B[38;5;129;01min\u001B[39;00m \u001B[38;5;28mself\u001B[39m\u001B[38;5;241m.\u001B[39m_problem\u001B[38;5;241m.\u001B[39mselect_get_moves():\n\u001B[0;32m    252\u001B[0m     \u001B[38;5;66;03m# check quality move\u001B[39;00m\n\u001B[1;32m--> 253\u001B[0m     delta \u001B[38;5;241m=\u001B[39m \u001B[38;5;28;43mself\u001B[39;49m\u001B[38;5;241;43m.\u001B[39;49m\u001B[43m_problem\u001B[49m\u001B[38;5;241;43m.\u001B[39;49m\u001B[43mevaluate_move\u001B[49m\u001B[43m(\u001B[49m\u001B[43mmove\u001B[49m\u001B[43m)\u001B[49m\n\u001B[0;32m    255\u001B[0m     \u001B[38;5;66;03m# keep data best move\u001B[39;00m\n\u001B[0;32m    256\u001B[0m     \u001B[38;5;28;01mif\u001B[39;00m \u001B[38;5;28mself\u001B[39m\u001B[38;5;241m.\u001B[39m_function(best_found_delta, delta):\n",
      "File \u001B[1;32m~\\Documents\\Masterproef\\lclPyProject\\lclpy\\problem\\array_problem.py:329\u001B[0m, in \u001B[0;36mArrayProblem.evaluate_move\u001B[1;34m(self, move)\u001B[0m\n\u001B[0;32m    275\u001B[0m \u001B[38;5;28;01mdef\u001B[39;00m \u001B[38;5;21mevaluate_move\u001B[39m(\u001B[38;5;28mself\u001B[39m, move):\n\u001B[0;32m    276\u001B[0m \u001B[38;5;250m    \u001B[39m\u001B[38;5;124;03m\"\"\"Evaluates the quality gained or lost by a potential move.\u001B[39;00m\n\u001B[0;32m    277\u001B[0m \n\u001B[0;32m    278\u001B[0m \u001B[38;5;124;03m    Can lead to considerable speedups. Is equivalent to a delta evaluation\u001B[39;00m\n\u001B[1;32m   (...)\u001B[0m\n\u001B[0;32m    326\u001B[0m \n\u001B[0;32m    327\u001B[0m \u001B[38;5;124;03m    \"\"\"\u001B[39;00m\n\u001B[1;32m--> 329\u001B[0m     \u001B[38;5;28;01mreturn\u001B[39;00m \u001B[38;5;28;43mself\u001B[39;49m\u001B[38;5;241;43m.\u001B[39;49m\u001B[43m_evaluation_function\u001B[49m\u001B[38;5;241;43m.\u001B[39;49m\u001B[43mdelta_evaluate\u001B[49m\u001B[43m(\u001B[49m\u001B[38;5;28;43mself\u001B[39;49m\u001B[38;5;241;43m.\u001B[39;49m\u001B[43m_order\u001B[49m\u001B[43m,\u001B[49m\u001B[43m \u001B[49m\u001B[43mmove\u001B[49m\u001B[43m)\u001B[49m\n",
      "File \u001B[1;32m~\\Documents\\Masterproef\\lclPyProject\\lclpy\\evaluation\\bin_problem_eval.py:36\u001B[0m, in \u001B[0;36mbinProblemEval.delta_evaluate\u001B[1;34m(self, current_data, move)\u001B[0m\n\u001B[0;32m     33\u001B[0m currentScore\u001B[38;5;241m=\u001B[39m\u001B[38;5;28mself\u001B[39m\u001B[38;5;241m.\u001B[39mevaluate(current_data)\n\u001B[0;32m     34\u001B[0m moveArray\u001B[38;5;241m=\u001B[39mnp\u001B[38;5;241m.\u001B[39marray(current_data)\n\u001B[1;32m---> 36\u001B[0m moveArray[move[\u001B[38;5;241m0\u001B[39m]],moveArray[move[\u001B[38;5;241m1\u001B[39m]]\u001B[38;5;241m=\u001B[39m\u001B[43mmoveArray\u001B[49m\u001B[43m[\u001B[49m\u001B[43mmove\u001B[49m\u001B[43m[\u001B[49m\u001B[38;5;241;43m1\u001B[39;49m\u001B[43m]\u001B[49m\u001B[43m]\u001B[49m,moveArray[move[\u001B[38;5;241m0\u001B[39m]]\n\u001B[0;32m     37\u001B[0m moveScore\u001B[38;5;241m=\u001B[39m\u001B[38;5;28mself\u001B[39m\u001B[38;5;241m.\u001B[39mevaluate(moveArray)\n\u001B[0;32m     39\u001B[0m \u001B[38;5;28;01mreturn\u001B[39;00m moveScore\u001B[38;5;241m-\u001B[39mcurrentScore\n",
      "\u001B[1;31mIndexError\u001B[0m: too many indices for array: array is 1-dimensional, but 2 were indexed"
     ]
    }
   ],
   "source": [
    "move_a = ArraySwap(data.size)\n",
    "move_b = ArrayReverseOrder(data.size)\n",
    "\n",
    "moves = [move_a, move_b]\n",
    "\n",
    "move_4 = MultiNeighbourhood(moves)\n",
    "\n",
    "evaluation_4 = binProblemEval(300, data)\n",
    "\n",
    "problem_4 = ArrayProblem(evaluation_4, move_4, data.size)\n",
    "\n",
    "\n",
    "algorithm_4 = VariableNeighbourhood(problem_4)\n",
    "results_4 = algorithm_4.run()\n",
    "print(results_4)"
   ],
   "metadata": {
    "collapsed": false,
    "ExecuteTime": {
     "end_time": "2023-11-27T13:55:05.351455800Z",
     "start_time": "2023-11-27T13:55:05.028434700Z"
    }
   },
   "id": "1357aad5d5d397b7"
  },
  {
   "cell_type": "markdown",
   "source": [],
   "metadata": {
    "collapsed": false
   },
   "id": "5bb3798ab3ab3b40"
  }
 ],
 "metadata": {
  "kernelspec": {
   "display_name": "Python 3",
   "language": "python",
   "name": "python3"
  },
  "language_info": {
   "codemirror_mode": {
    "name": "ipython",
    "version": 2
   },
   "file_extension": ".py",
   "mimetype": "text/x-python",
   "name": "python",
   "nbconvert_exporter": "python",
   "pygments_lexer": "ipython2",
   "version": "2.7.6"
  }
 },
 "nbformat": 4,
 "nbformat_minor": 5
}
