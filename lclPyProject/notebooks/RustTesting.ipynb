{
 "cells": [
  {
   "cell_type": "code",
   "execution_count": 1,
   "id": "initial_id",
   "metadata": {
    "collapsed": true,
    "ExecuteTime": {
     "end_time": "2023-11-11T15:24:48.240063800Z",
     "start_time": "2023-11-11T15:24:48.232771Z"
    }
   },
   "outputs": [],
   "source": [
    "import lclpyRust"
   ]
  },
  {
   "cell_type": "code",
   "execution_count": 2,
   "outputs": [
    {
     "ename": "AttributeError",
     "evalue": "module 'lclpyRust' has no attribute 'sum_as_string'",
     "output_type": "error",
     "traceback": [
      "\u001B[1;31m---------------------------------------------------------------------------\u001B[0m",
      "\u001B[1;31mAttributeError\u001B[0m                            Traceback (most recent call last)",
      "Cell \u001B[1;32mIn[2], line 1\u001B[0m\n\u001B[1;32m----> 1\u001B[0m \u001B[43mlclpyRust\u001B[49m\u001B[38;5;241;43m.\u001B[39;49m\u001B[43msum_as_string\u001B[49m(\u001B[38;5;241m5\u001B[39m, \u001B[38;5;241m20\u001B[39m)\n",
      "\u001B[1;31mAttributeError\u001B[0m: module 'lclpyRust' has no attribute 'sum_as_string'"
     ]
    }
   ],
   "source": [
    "lclpyRust.sum_as_string(5, 20)"
   ],
   "metadata": {
    "collapsed": false,
    "ExecuteTime": {
     "end_time": "2023-11-11T15:24:48.540842300Z",
     "start_time": "2023-11-11T15:24:48.240063800Z"
    }
   },
   "id": "3e7f742af7712857"
  }
 ],
 "metadata": {
  "kernelspec": {
   "display_name": "Python 3",
   "language": "python",
   "name": "python3"
  },
  "language_info": {
   "codemirror_mode": {
    "name": "ipython",
    "version": 2
   },
   "file_extension": ".py",
   "mimetype": "text/x-python",
   "name": "python",
   "nbconvert_exporter": "python",
   "pygments_lexer": "ipython2",
   "version": "2.7.6"
  }
 },
 "nbformat": 4,
 "nbformat_minor": 5
}
