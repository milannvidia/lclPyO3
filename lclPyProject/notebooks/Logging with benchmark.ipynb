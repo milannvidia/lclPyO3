{
 "cells": [
  {
   "cell_type": "code",
   "execution_count": 1,
   "metadata": {
    "slideshow": {
     "slide_type": "skip"
    },
    "ExecuteTime": {
     "end_time": "2023-10-04T08:29:30.258246700Z",
     "start_time": "2023-10-04T08:29:30.115788100Z"
    }
   },
   "outputs": [],
   "source": [
    "from lclpy.io.tsplib import read_tsplib\n",
    "\n",
    "from lclpy.termination.max_iterations_termination_criterion import MaxIterationsTerminationCriterion\n",
    "from lclpy.localsearch.move.tsp_array_swap import TspArraySwap\n",
    "from lclpy.localsearch.move.array_reverse_order import ArrayReverseOrder\n",
    "from lclpy.evaluation.tsp_evaluation_function import TspEvaluationFunction\n",
    "from lclpy.problem.array_problem import ArrayProblem\n",
    "\n",
    "from lclpy.localsearch.simulatedannealing.simulated_annealing import SimulatedAnnealing\n",
    "from lclpy.localsearch.simulatedannealing.geometric_cooling_function import GeometricCoolingFunction\n",
    "from lclpy.localsearch.simulatedannealing.cnst_iterations_temp_function import CnstIterationsTempFunction\n",
    "\n",
    "from lclpy.localsearch.steepestdescent.steepest_descent import SteepestDescent\n",
    "\n",
    "\n",
    "from lclpy.benchmark.benchmark import benchmark\n"
   ]
  },
  {
   "cell_type": "code",
   "execution_count": 2,
   "metadata": {
    "slideshow": {
     "slide_type": "skip"
    },
    "ExecuteTime": {
     "end_time": "2023-10-04T08:29:30.264567200Z",
     "start_time": "2023-10-04T08:29:30.259245500Z"
    }
   },
   "outputs": [],
   "source": [
    "data = read_tsplib('data/gr48.tsp')\n",
    "distance_matrix = data[0]\n",
    "\n",
    "size = distance_matrix.shape[0]"
   ]
  },
  {
   "cell_type": "markdown",
   "metadata": {
    "slideshow": {
     "slide_type": "slide"
    }
   },
   "source": [
    "# Termination criterion"
   ]
  },
  {
   "cell_type": "code",
   "execution_count": 3,
   "metadata": {
    "slideshow": {
     "slide_type": "fragment"
    },
    "ExecuteTime": {
     "end_time": "2023-10-04T08:29:30.276037600Z",
     "start_time": "2023-10-04T08:29:30.264567200Z"
    }
   },
   "outputs": [],
   "source": [
    "termination_criterion = MaxIterationsTerminationCriterion(10)"
   ]
  },
  {
   "cell_type": "markdown",
   "metadata": {
    "slideshow": {
     "slide_type": "slide"
    }
   },
   "source": [
    "# Problems"
   ]
  },
  {
   "cell_type": "code",
   "execution_count": 4,
   "metadata": {
    "slideshow": {
     "slide_type": "fragment"
    },
    "ExecuteTime": {
     "end_time": "2023-10-04T08:29:30.277035Z",
     "start_time": "2023-10-04T08:29:30.269466800Z"
    }
   },
   "outputs": [],
   "source": [
    "move_1 = TspArraySwap(size)\n",
    "\n",
    "evaluation_1 = TspEvaluationFunction(distance_matrix, move_1)\n",
    "\n",
    "problem_1 = ArrayProblem(evaluation_1, move_1, size)"
   ]
  },
  {
   "cell_type": "code",
   "execution_count": 5,
   "metadata": {
    "slideshow": {
     "slide_type": "fragment"
    },
    "ExecuteTime": {
     "end_time": "2023-10-04T08:29:30.306226400Z",
     "start_time": "2023-10-04T08:29:30.280027900Z"
    }
   },
   "outputs": [],
   "source": [
    "move_2 = ArrayReverseOrder(size)\n",
    "\n",
    "evaluation_2 = TspEvaluationFunction(distance_matrix, move_2)\n",
    "\n",
    "problem_2 = ArrayProblem(evaluation_2, move_2, size)"
   ]
  },
  {
   "cell_type": "code",
   "execution_count": 6,
   "metadata": {
    "slideshow": {
     "slide_type": "fragment"
    },
    "ExecuteTime": {
     "end_time": "2023-10-04T08:29:30.307224200Z",
     "start_time": "2023-10-04T08:29:30.290440600Z"
    }
   },
   "outputs": [],
   "source": [
    "problem_list = [problem_1, problem_2]"
   ]
  },
  {
   "cell_type": "markdown",
   "metadata": {
    "slideshow": {
     "slide_type": "slide"
    }
   },
   "source": [
    "# Algorithms"
   ]
  },
  {
   "cell_type": "markdown",
   "metadata": {},
   "source": [
    "Since the parameter logging is False, no data will be shown in the command line of the execution of this algorithm. It will still be properly executed, mind."
   ]
  },
  {
   "cell_type": "code",
   "execution_count": 7,
   "metadata": {
    "slideshow": {
     "slide_type": "fragment"
    },
    "ExecuteTime": {
     "end_time": "2023-10-04T08:29:30.308221Z",
     "start_time": "2023-10-04T08:29:30.297390800Z"
    }
   },
   "outputs": [],
   "source": [
    "cooling_func = GeometricCoolingFunction(0.95)\n",
    "i_for_temp = CnstIterationsTempFunction(1500)\n",
    "\n",
    "algorithm_1 = SimulatedAnnealing(None, None,cooling_func, i_for_temp, benchmarking=True, logging=False)"
   ]
  },
  {
   "cell_type": "markdown",
   "metadata": {},
   "source": [
    "Here, the algorithm has no given logging parameter, therefore it will use the default value (True) and logging of the execution of the algoritm will be shown in the command line."
   ]
  },
  {
   "cell_type": "code",
   "execution_count": 8,
   "metadata": {
    "slideshow": {
     "slide_type": "fragment"
    },
    "ExecuteTime": {
     "end_time": "2023-10-04T08:29:30.310216400Z",
     "start_time": "2023-10-04T08:29:30.300936500Z"
    }
   },
   "outputs": [],
   "source": [
    "algorithm_2 = SteepestDescent(None, benchmarking=True)"
   ]
  },
  {
   "cell_type": "code",
   "execution_count": 9,
   "metadata": {
    "slideshow": {
     "slide_type": "fragment"
    },
    "ExecuteTime": {
     "end_time": "2023-10-04T08:29:30.320402500Z",
     "start_time": "2023-10-04T08:29:30.312210900Z"
    }
   },
   "outputs": [],
   "source": [
    "alg_list = [algorithm_1, algorithm_2]"
   ]
  },
  {
   "cell_type": "markdown",
   "metadata": {
    "slideshow": {
     "slide_type": "slide"
    }
   },
   "source": [
    "# Benchmark"
   ]
  },
  {
   "cell_type": "code",
   "execution_count": 10,
   "metadata": {
    "slideshow": {
     "slide_type": "fragment"
    },
    "ExecuteTime": {
     "end_time": "2023-10-04T08:29:31.231855100Z",
     "start_time": "2023-10-04T08:29:30.321399800Z"
    }
   },
   "outputs": [
    {
     "name": "stdout",
     "output_type": "stream",
     "text": [
      "____Benchmark started___\n",
      "|---  Starting runs for algorithm 0\n",
      "--|---  Starting runs for problem 0\n",
      "----|---  Starting run for seed 0\n",
      "----|--- Completed run for seed 0\n",
      "----|---  Starting run for seed 1\n",
      "----|--- Completed run for seed 1\n",
      "----|---  Starting run for seed 2\n",
      "----|--- Completed run for seed 2\n",
      "--|--- Completed runs for problem 0\n",
      "--|---  Starting runs for problem 1\n",
      "----|---  Starting run for seed 0\n",
      "----|--- Completed run for seed 0\n",
      "----|---  Starting run for seed 1\n",
      "----|--- Completed run for seed 1\n",
      "----|---  Starting run for seed 2\n",
      "----|--- Completed run for seed 2\n",
      "--|--- Completed runs for problem 1\n",
      "|--- Completed runs for algorithm 0\n",
      "|---  Starting runs for algorithm 1\n",
      "--|---  Starting runs for problem 2\n",
      "----|---  Starting run for seed 0\n",
      "Improvement : 18381\n",
      "Improvement : 17226\n",
      "Improvement : 16206\n",
      "Improvement : 15138\n",
      "Improvement : 14149\n",
      "Improvement : 13407\n",
      "Improvement : 12754\n",
      "Improvement : 12052\n",
      "Improvement : 11342\n",
      "Improvement : 10515\n",
      "----|--- Completed run for seed 0\n",
      "----|---  Starting run for seed 1\n",
      "Improvement : 18381\n",
      "Improvement : 17226\n",
      "Improvement : 16206\n",
      "Improvement : 15138\n",
      "Improvement : 14149\n",
      "Improvement : 13407\n",
      "Improvement : 12754\n",
      "Improvement : 12052\n",
      "Improvement : 11342\n",
      "Improvement : 10515\n",
      "----|--- Completed run for seed 1\n",
      "----|---  Starting run for seed 2\n",
      "Improvement : 18381\n",
      "Improvement : 17226\n",
      "Improvement : 16206\n",
      "Improvement : 15138\n",
      "Improvement : 14149\n",
      "Improvement : 13407\n",
      "Improvement : 12754\n",
      "Improvement : 12052\n",
      "Improvement : 11342\n",
      "Improvement : 10515\n",
      "----|--- Completed run for seed 2\n",
      "--|--- Completed runs for problem 2\n",
      "--|---  Starting runs for problem 3\n",
      "----|---  Starting run for seed 0\n",
      "Improvement : 18611\n",
      "Improvement : 17580\n",
      "Improvement : 16612\n",
      "Improvement : 15544\n",
      "Improvement : 14668\n",
      "Improvement : 13885\n",
      "Improvement : 13285\n",
      "Improvement : 12600\n",
      "Improvement : 12021\n",
      "Improvement : 11484\n",
      "----|--- Completed run for seed 0\n",
      "----|---  Starting run for seed 1\n",
      "Improvement : 18611\n",
      "Improvement : 17580\n",
      "Improvement : 16612\n",
      "Improvement : 15544\n",
      "Improvement : 14668\n",
      "Improvement : 13885\n",
      "Improvement : 13285\n",
      "Improvement : 12600\n",
      "Improvement : 12021\n",
      "Improvement : 11484\n",
      "----|--- Completed run for seed 1\n",
      "----|---  Starting run for seed 2\n",
      "Improvement : 18611\n",
      "Improvement : 17580\n",
      "Improvement : 16612\n",
      "Improvement : 15544\n",
      "Improvement : 14668\n",
      "Improvement : 13885\n",
      "Improvement : 13285\n",
      "Improvement : 12600\n",
      "Improvement : 12021\n",
      "Improvement : 11484\n",
      "----|--- Completed run for seed 2\n",
      "--|--- Completed runs for problem 3\n",
      "|--- Completed runs for algorithm 1\n",
      "____Benchmark ended___\n"
     ]
    }
   ],
   "source": [
    "result=benchmark(problem_list, alg_list, termination_criterion, 3)"
   ]
  },
  {
   "cell_type": "code",
   "execution_count": 11,
   "metadata": {
    "ExecuteTime": {
     "end_time": "2023-10-04T08:29:31.241165200Z",
     "start_time": "2023-10-04T08:29:31.227865800Z"
    }
   },
   "outputs": [
    {
     "name": "stdout",
     "output_type": "stream",
     "text": [
      "[[[Results(best_order=array([ 0,  1,  2,  3,  4,  5,  6, 31,  8, 19, 39, 11, 12, 13, 32, 15, 16,\n",
      "       17, 18,  9,  7, 21, 22, 23, 24, 27, 26, 25, 28, 29, 30, 20, 33, 14,\n",
      "       34, 46, 36, 37, 38, 10, 40, 41, 42, 43, 44, 45, 35, 47]), best_value=18985, data=Data(time=array([0.00000000e+00, 4.27000004e-05, 5.65999999e-05, 6.63000001e-05,\n",
      "       7.50999998e-05, 8.29000001e-05, 1.01300000e-04, 1.10500000e-04,\n",
      "       1.18800000e-04, 1.26700000e-04, 1.29700000e-04]), iteration=array([ 0,  0,  1,  2,  3,  4,  6,  7,  8,  9, 10]), temperature=array([2000., 2000., 2000., 2000., 2000., 2000., 2000., 2000., 2000.,\n",
      "       2000., 1900.]), value=array([19837, 19886, 20353, 20401, 19947, 20430, 19464, 19209, 18985,\n",
      "       19083, 19083]), best_value=array([19837, 19837, 19837, 19837, 19837, 19837, 19464, 19209, 18985,\n",
      "       18985, 18985]))), Results(best_order=array([ 0, 45, 32,  3,  4, 17,  6, 14,  8,  9, 10, 11, 12, 13,  7, 15, 16,\n",
      "        5, 18, 19, 20, 21, 22, 23, 24, 28, 26, 27, 25, 31, 30, 29,  2, 33,\n",
      "       34, 35, 36, 37, 38, 39, 40, 41, 42, 43, 44,  1, 46, 47]), best_value=19712, data=Data(time=array([0.00000000e+00, 2.39000001e-05, 3.19999999e-05, 3.93000000e-05,\n",
      "       4.63999995e-05, 5.30999996e-05, 6.17999995e-05, 8.10000001e-05,\n",
      "       8.28000002e-05]), iteration=array([ 0,  1,  2,  3,  4,  5,  6,  9, 10]), temperature=array([2000., 2000., 2000., 2000., 2000., 2000., 2000., 2000., 1900.]), value=array([19837, 20058, 20319, 20182, 20193, 20305, 19712, 19762, 19762]), best_value=array([19837, 19837, 19837, 19837, 19837, 19837, 19712, 19712, 19712]))), Results(best_order=array([ 0,  1,  2,  3,  6,  5,  4,  7,  8,  9, 10, 11, 12, 13, 14, 15, 16,\n",
      "       17, 18, 19, 20, 21, 22, 23, 24, 25, 26, 27, 28, 29, 30, 31, 32, 33,\n",
      "       34, 35, 36, 37, 38, 39, 40, 41, 42, 43, 44, 45, 46, 47]), best_value=19289, data=Data(time=array([0.00000000e+00, 1.57000004e-05, 2.59999997e-05, 3.40999995e-05,\n",
      "       4.12999998e-05, 4.84000002e-05, 5.52000001e-05, 6.89999997e-05,\n",
      "       7.56999998e-05, 8.23999999e-05, 8.35000001e-05]), iteration=array([ 0,  0,  1,  2,  3,  4,  5,  7,  8,  9, 10]), temperature=array([2000., 2000., 2000., 2000., 2000., 2000., 2000., 2000., 2000.,\n",
      "       2000., 1900.]), value=array([19837, 19289, 19616, 20490, 21198, 20905, 20986, 20619, 20745,\n",
      "       21877, 21877]), best_value=array([19837, 19289, 19289, 19289, 19289, 19289, 19289, 19289, 19289,\n",
      "       19289, 19289])))], [Results(best_order=array([ 0,  1,  2,  3, 46, 45, 44, 43, 42, 41, 40, 39, 38, 37, 36, 35, 20,\n",
      "       21, 22, 23, 26, 31, 30, 29, 28, 27, 24, 18, 17, 16, 15,  8,  7,  6,\n",
      "        9, 10, 11, 12, 32, 25, 19, 34, 33, 13, 14,  5,  4, 47]), best_value=18100, data=Data(time=array([0.00000000e+00, 2.44000003e-05, 6.57999999e-05, 8.68000006e-05,\n",
      "       1.16500000e-04, 1.24500000e-04, 1.52900000e-04, 1.87100000e-04,\n",
      "       2.47500000e-04, 2.49000001e-04]), iteration=array([ 0,  0,  2,  3,  4,  5,  6,  8,  9, 10]), temperature=array([2000., 2000., 2000., 2000., 2000., 2000., 2000., 2000., 2000.,\n",
      "       1900.]), value=array([19837, 19797, 19377, 19420, 19586, 19613, 18387, 18357, 18100,\n",
      "       18100]), best_value=array([19837, 19797, 19377, 19377, 19377, 19377, 18387, 18357, 18100,\n",
      "       18100]))), Results(best_order=array([ 0, 31, 28, 29, 30, 27, 26, 25, 24, 23, 22, 21, 20, 19, 18, 17,  4,\n",
      "       46, 45, 44, 43, 42, 41, 40, 39, 38, 37, 36, 35, 34, 33, 32,  1,  2,\n",
      "        3, 16,  9,  8,  7, 15, 10, 11, 12, 13, 14,  6,  5, 47]), best_value=19801, data=Data(time=array([0.00000000e+00, 6.89999997e-05, 7.77999994e-05, 9.14999991e-05,\n",
      "       1.33300000e-04, 1.42200000e-04, 2.29900000e-04, 2.88100000e-04,\n",
      "       2.89299999e-04]), iteration=array([ 0,  1,  2,  3,  4,  5,  7,  9, 10]), temperature=array([2000., 2000., 2000., 2000., 2000., 2000., 2000., 2000., 1900.]), value=array([19837, 19843, 20260, 20123, 20263, 19859, 19801, 19889, 19889]), best_value=array([19837, 19837, 19837, 19837, 19837, 19837, 19801, 19801, 19801]))), Results(best_order=array([ 0,  1,  2,  3,  4,  5,  6,  7,  8,  9, 10, 11, 12, 13, 14, 15, 16,\n",
      "       17, 18, 19, 20, 21, 22, 23, 24, 25, 26, 27, 28, 29, 30, 31, 32, 33,\n",
      "       34, 35, 36, 37, 38, 39, 40, 41, 42, 43, 44, 45, 46, 47]), best_value=19837, data=Data(time=array([0.00000000e+00, 1.78000000e-05, 7.08999996e-05, 8.11000000e-05,\n",
      "       1.20300000e-04, 1.33400000e-04, 1.54200000e-04, 1.84500000e-04,\n",
      "       2.06500000e-04, 2.20300000e-04, 2.26500000e-04, 2.27600000e-04]), iteration=array([ 0,  0,  1,  2,  3,  4,  5,  6,  7,  8,  9, 10]), temperature=array([2000., 2000., 2000., 2000., 2000., 2000., 2000., 2000., 2000.,\n",
      "       2000., 2000., 1900.]), value=array([19837, 20442, 20500, 20462, 20588, 20835, 20684, 20185, 20185,\n",
      "       20677, 20573, 20573]), best_value=array([19837, 19837, 19837, 19837, 19837, 19837, 19837, 19837, 19837,\n",
      "       19837, 19837, 19837])))]], [[Results(best_order=array([ 0, 40,  2,  3, 29,  5, 21,  7,  8, 20, 10, 35, 12, 13, 31, 26, 16,\n",
      "       17, 18, 19, 34, 44, 22, 33, 24, 25, 15, 27, 28,  4, 30, 14, 32, 23,\n",
      "        9, 11, 36, 37, 38, 39,  1, 41, 42, 43,  6, 45, 46, 47]), best_value=10515, data=Data(time=array([0.       , 0.0053325, 0.0146098, 0.0202924, 0.0263307, 0.03123  ,\n",
      "       0.0362121, 0.0410753, 0.0468982, 0.0520738, 0.0571156, 0.0571181]), iteration=array([ 0,  0,  1,  2,  3,  4,  5,  6,  7,  8,  9, 10]), value=array([19837, 18381, 17226, 16206, 15138, 14149, 13407, 12754, 12052,\n",
      "       11342, 10515, 10515]))), Results(best_order=array([ 0, 40,  2,  3, 29,  5, 21,  7,  8, 20, 10, 35, 12, 13, 31, 26, 16,\n",
      "       17, 18, 19, 34, 44, 22, 33, 24, 25, 15, 27, 28,  4, 30, 14, 32, 23,\n",
      "        9, 11, 36, 37, 38, 39,  1, 41, 42, 43,  6, 45, 46, 47]), best_value=10515, data=Data(time=array([0.       , 0.0048101, 0.009792 , 0.0162028, 0.0214017, 0.0264336,\n",
      "       0.0311946, 0.0361098, 0.0412577, 0.0460158, 0.0509722, 0.050975 ]), iteration=array([ 0,  0,  1,  2,  3,  4,  5,  6,  7,  8,  9, 10]), value=array([19837, 18381, 17226, 16206, 15138, 14149, 13407, 12754, 12052,\n",
      "       11342, 10515, 10515]))), Results(best_order=array([ 0, 40,  2,  3, 29,  5, 21,  7,  8, 20, 10, 35, 12, 13, 31, 26, 16,\n",
      "       17, 18, 19, 34, 44, 22, 33, 24, 25, 15, 27, 28,  4, 30, 14, 32, 23,\n",
      "        9, 11, 36, 37, 38, 39,  1, 41, 42, 43,  6, 45, 46, 47]), best_value=10515, data=Data(time=array([0.       , 0.0058817, 0.0109382, 0.0158577, 0.0208669, 0.0258405,\n",
      "       0.0311214, 0.0365575, 0.0413846, 0.0461369, 0.0509633, 0.0509648]), iteration=array([ 0,  0,  1,  2,  3,  4,  5,  6,  7,  8,  9, 10]), value=array([19837, 18381, 17226, 16206, 15138, 14149, 13407, 12754, 12052,\n",
      "       11342, 10515, 10515])))], [Results(best_order=array([ 0, 28, 27, 17, 18, 19, 34, 39, 38, 37, 36, 46, 45, 44, 41, 42, 43,\n",
      "       40, 33,  3,  2,  1, 29, 24, 25, 26, 16, 15, 10, 12, 13, 14, 11,  9,\n",
      "        8,  7,  6,  5,  4, 32, 31, 30, 23, 22, 21, 20, 35, 47]), best_value=11484, data=Data(time=array([0.       , 0.0244827, 0.0491078, 0.0732174, 0.096144 , 0.1209629,\n",
      "       0.1458099, 0.1693345, 0.1928236, 0.2208332, 0.2436292, 0.2436314]), iteration=array([ 0,  0,  1,  2,  3,  4,  5,  6,  7,  8,  9, 10]), value=array([19837, 18611, 17580, 16612, 15544, 14668, 13885, 13285, 12600,\n",
      "       12021, 11484, 11484]))), Results(best_order=array([ 0, 28, 27, 17, 18, 19, 34, 39, 38, 37, 36, 46, 45, 44, 41, 42, 43,\n",
      "       40, 33,  3,  2,  1, 29, 24, 25, 26, 16, 15, 10, 12, 13, 14, 11,  9,\n",
      "        8,  7,  6,  5,  4, 32, 31, 30, 23, 22, 21, 20, 35, 47]), best_value=11484, data=Data(time=array([0.       , 0.0235821, 0.0489295, 0.0802254, 0.1029281, 0.1256149,\n",
      "       0.1529189, 0.1761716, 0.1999288, 0.2229638, 0.2459181, 0.2459204]), iteration=array([ 0,  0,  1,  2,  3,  4,  5,  6,  7,  8,  9, 10]), value=array([19837, 18611, 17580, 16612, 15544, 14668, 13885, 13285, 12600,\n",
      "       12021, 11484, 11484]))), Results(best_order=array([ 0, 28, 27, 17, 18, 19, 34, 39, 38, 37, 36, 46, 45, 44, 41, 42, 43,\n",
      "       40, 33,  3,  2,  1, 29, 24, 25, 26, 16, 15, 10, 12, 13, 14, 11,  9,\n",
      "        8,  7,  6,  5,  4, 32, 31, 30, 23, 22, 21, 20, 35, 47]), best_value=11484, data=Data(time=array([0.       , 0.0225417, 0.0463026, 0.0699533, 0.0942608, 0.1174316,\n",
      "       0.1409528, 0.1644842, 0.1873306, 0.21121  , 0.2345481, 0.2345499]), iteration=array([ 0,  0,  1,  2,  3,  4,  5,  6,  7,  8,  9, 10]), value=array([19837, 18611, 17580, 16612, 15544, 14668, 13885, 13285, 12600,\n",
      "       12021, 11484, 11484])))]]]\n"
     ]
    }
   ],
   "source": [
    "print(result)"
   ]
  }
 ],
 "metadata": {
  "kernelspec": {
   "display_name": "Python 3",
   "language": "python",
   "name": "python3"
  },
  "language_info": {
   "codemirror_mode": {
    "name": "ipython",
    "version": 3
   },
   "file_extension": ".py",
   "mimetype": "text/x-python",
   "name": "python",
   "nbconvert_exporter": "python",
   "pygments_lexer": "ipython3",
   "version": "3.7.4"
  }
 },
 "nbformat": 4,
 "nbformat_minor": 2
}
