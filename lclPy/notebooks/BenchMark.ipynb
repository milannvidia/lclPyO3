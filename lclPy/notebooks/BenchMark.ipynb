{
 "cells": [
  {
   "cell_type": "markdown",
   "metadata": {},
   "source": [
    "### Imports"
   ]
  },
  {
   "cell_type": "code",
   "execution_count": 26,
   "metadata": {},
   "outputs": [],
   "source": [
    "import os\n",
    "import sys\n",
    "import numpy\n",
    "\n",
    "# Set the project root directory\n",
    "project_root = os.path.abspath(os.path.join(os.getcwd(), '..'))\n",
    "sys.path.insert(0, project_root)\n",
    "import lclpy\n",
    "from lclpy import lclpy as lcl_rust\n"
   ]
  },
  {
   "cell_type": "markdown",
   "metadata": {},
   "source": [
    " ### rust setup"
   ]
  },
  {
   "cell_type": "code",
   "execution_count": 27,
   "metadata": {},
   "outputs": [],
   "source": [
    "rEval=lcl_rust.RustEvaluation.tsp_from_dist_matrix(r'C:\\Users\\MilanSchollier\\Documents\\projecten\\2023-masterproef-milan-schollier\\lclPy\\data\\distanceMatrix')\n",
    "rMove=lcl_rust.RustMoveType.swap_tsp(48)\n",
    "rProblem=lcl_rust.RustProblem.array_problem(rMove,rEval)\n",
    "\n",
    "rTerm=lcl_rust.RustTermination.min_temp(500)\n",
    "rCooling=lcl_rust.RustCooling.geometric_cooling(0.95)\n",
    "rIter=lcl_rust.RustIterationsPerTemp.cnst_iter_temp(1500)\n",
    "rAlgorithm=lcl_rust.RustLocalSearch.simulated_annealing(2000,True,rProblem,rTerm,rCooling,rIter)"
   ]
  },
  {
   "cell_type": "markdown",
   "metadata": {},
   "source": [
    " ### python setup"
   ]
  },
  {
   "cell_type": "code",
   "execution_count": 28,
   "metadata": {},
   "outputs": [],
   "source": [
    "import lclpy.evaluation\n",
    "import lclpy.evaluation.tsp_evaluation_function\n",
    "import lclpy.localsearch\n",
    "import lclpy.localsearch.move\n",
    "import lclpy.localsearch.move.tsp_array_swap\n",
    "import lclpy.localsearch.simulatedannealing\n",
    "import lclpy.localsearch.simulatedannealing.cnst_iterations_temp_function\n",
    "import lclpy.localsearch.simulatedannealing.geometric_cooling_function\n",
    "import lclpy.localsearch.simulatedannealing.simulated_annealing\n",
    "import lclpy.problem\n",
    "import lclpy.problem.array_problem\n",
    "import lclpy.termination\n",
    "import lclpy.termination.min_temperature_termination_criterion\n",
    "\n",
    "\n",
    "pData=numpy.loadtxt(r'C:\\Users\\MilanSchollier\\Documents\\projecten\\2023-masterproef-milan-schollier\\lclPy\\data\\distanceMatrix',dtype=int)\n",
    "pMove = lclpy.localsearch.move.tsp_array_swap.TspArraySwap(pData.shape[0])\n",
    "pEval=lclpy.evaluation.tsp_evaluation_function.TspEvaluationFunction(pData,pMove)\n",
    "pProblem = lclpy.problem.array_problem.ArrayProblem(pEval, pMove, pData.shape[0])\n",
    "\n",
    "pTerm = lclpy.termination.min_temperature_termination_criterion.MinTemperatureTerminationCriterion(500)\n",
    "pCooling = lclpy.localsearch.simulatedannealing.geometric_cooling_function.GeometricCoolingFunction(0.95)\n",
    "pIter = lclpy.localsearch.simulatedannealing.cnst_iterations_temp_function.CnstIterationsTempFunction(1500)\n",
    "pAlgorithm = lclpy.localsearch.simulatedannealing.simulated_annealing.SimulatedAnnealing(pProblem, pTerm,\n",
    "                               pCooling, pIter, logging=False, benchmarking=True)\n"
   ]
  },
  {
   "cell_type": "markdown",
   "metadata": {},
   "source": [
    "### Run tests"
   ]
  },
  {
   "cell_type": "code",
   "execution_count": 29,
   "metadata": {},
   "outputs": [],
   "source": [
    "pRes=pAlgorithm.run()\n",
    "rRes=rAlgorithm.run()\n"
   ]
  },
  {
   "cell_type": "code",
   "execution_count": 30,
   "metadata": {},
   "outputs": [
    {
     "name": "stdout",
     "output_type": "stream",
     "text": [
      "Python time: 0.2753773999866098\n",
      "Rust time: 0.0024679\n",
      "Procentuele versnelling: 99.10381171435273\n",
      "Aantal keer sneller: 111.58369463374117\n"
     ]
    }
   ],
   "source": [
    "pTime=pRes.data.time[-1:][0]\n",
    "rTime=rRes[-1:][0][0]/10**9\n",
    "print(\"Python time: \"+ str(pTime))\n",
    "print(\"Rust time: \"+ str(rTime))\n",
    "print(\"Procentuele versnelling: \"+ str(((pTime-rTime)/pTime)*100))\n",
    "print(\"Aantal keer sneller: \"+ str(pTime/rTime))\n"
   ]
  }
 ],
 "metadata": {
  "kernelspec": {
   "display_name": "Python 3",
   "language": "python",
   "name": "python3"
  },
  "language_info": {
   "codemirror_mode": {
    "name": "ipython",
    "version": 3
   },
   "file_extension": ".py",
   "mimetype": "text/x-python",
   "name": "python",
   "nbconvert_exporter": "python",
   "pygments_lexer": "ipython3",
   "version": "3.11.5"
  }
 },
 "nbformat": 4,
 "nbformat_minor": 2
}
