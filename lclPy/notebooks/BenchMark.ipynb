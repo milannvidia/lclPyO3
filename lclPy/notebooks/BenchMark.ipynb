{
 "cells": [
  {
   "cell_type": "markdown",
   "metadata": {},
   "source": [
    "### Imports"
   ]
  },
  {
   "cell_type": "code",
   "execution_count": 1,
   "metadata": {},
   "outputs": [],
   "source": [
    "import os\n",
    "import sys\n",
    "import numpy\n",
    "\n",
    "# Set the project root directory\n",
    "project_root = os.path.abspath(os.path.join(os.getcwd(), '..'))\n",
    "sys.path.insert(0, project_root)\n",
    "import lclpy"
   ]
  },
  {
   "cell_type": "markdown",
   "metadata": {},
   "source": [
    " ### rust setup"
   ]
  },
  {
   "cell_type": "code",
   "execution_count": null,
   "metadata": {},
   "outputs": [],
   "source": [
    "reval=lcl_rust.Evaluation.tsp_from_dist_matrix(\"C:/Users/milan/Documents/Masterproef/lclPy/data/distanceMatrix\")\n",
    "rmove=lcl_rust.MoveType.swap_tsp(48)\n",
    "rproblem=lcl_rust.Problem.array_problem(rmove,reval)\n",
    "rterm=lcl_rust.Termination.min_temp(5)\n",
    "rcooling=lcl_rust.Cooling.geometric_cooling(0.95)\n",
    "riter=lcl_rust.IterationsPerTemp.cnst_iter_temp(1500)\n",
    "\n",
    "ralgorithm_1=lcl_rust.LocalSearch.simulated_annealing(2000,True,rproblem,rterm,rcooling,riter)"
   ]
  },
  {
   "cell_type": "markdown",
   "metadata": {},
   "source": [
    " ### python setup"
   ]
  },
  {
   "cell_type": "code",
   "execution_count": 5,
   "metadata": {},
   "outputs": [
    {
     "ename": "AttributeError",
     "evalue": "module 'lclpy' has no attribute '__all__'",
     "output_type": "error",
     "traceback": [
      "\u001b[1;31m---------------------------------------------------------------------------\u001b[0m",
      "\u001b[1;31mAttributeError\u001b[0m                            Traceback (most recent call last)",
      "Cell \u001b[1;32mIn[5], line 1\u001b[0m\n\u001b[1;32m----> 1\u001b[0m \u001b[38;5;28mprint\u001b[39m(\u001b[43mlclpy\u001b[49m\u001b[38;5;241;43m.\u001b[39;49m\u001b[43m__all__\u001b[49m)\n\u001b[0;32m      3\u001b[0m \u001b[38;5;66;03m# data=numpy.loadtxt('C:/Users/milan/Documents/Masterproef/lclpy/data/distanceMatrix',dtype=int)\u001b[39;00m\n\u001b[0;32m      4\u001b[0m \u001b[38;5;66;03m# move_1 = localsearch.move.tsp_array_swap.TspArraySwap(size)\u001b[39;00m\n\u001b[0;32m      5\u001b[0m \u001b[38;5;66;03m# problem_1 = ArrayProblem(evaluation_1, move_1, size)\u001b[39;00m\n\u001b[1;32m   (...)\u001b[0m\n\u001b[0;32m      9\u001b[0m \u001b[38;5;66;03m# algorithm_1 = SimulatedAnnealing(problem_1, termination_criterion_1,\u001b[39;00m\n\u001b[0;32m     10\u001b[0m \u001b[38;5;66;03m#                                cooling_func, i_for_temp)\u001b[39;00m\n",
      "\u001b[1;31mAttributeError\u001b[0m: module 'lclpy' has no attribute '__all__'"
     ]
    }
   ],
   "source": [
    "print(lclpy.__all__)\n",
    "\n",
    "# data=numpy.loadtxt('C:/Users/milan/Documents/Masterproef/lclpy/data/distanceMatrix',dtype=int)\n",
    "# move_1 = localsearch.move.tsp_array_swap.TspArraySwap(size)\n",
    "# problem_1 = ArrayProblem(evaluation_1, move_1, size)\n",
    "# termination_criterion_1 = MinTemperatureTerminationCriterion()\n",
    "# cooling_func = GeometricCoolingFunction(0.95)\n",
    "# i_for_temp = CnstIterationsTempFunction(1500)\n",
    "# algorithm_1 = SimulatedAnnealing(problem_1, termination_criterion_1,\n",
    "#                                cooling_func, i_for_temp)\n"
   ]
  },
  {
   "cell_type": "code",
   "execution_count": null,
   "metadata": {},
   "outputs": [
    {
     "ename": "NameError",
     "evalue": "name 'res' is not defined",
     "output_type": "error",
     "traceback": [
      "\u001b[1;31m---------------------------------------------------------------------------\u001b[0m",
      "\u001b[1;31mNameError\u001b[0m                                 Traceback (most recent call last)",
      "Cell \u001b[1;32mIn[36], line 1\u001b[0m\n\u001b[1;32m----> 1\u001b[0m \u001b[38;5;28mprint\u001b[39m(\u001b[43mres\u001b[49m)\n\u001b[0;32m      2\u001b[0m \u001b[38;5;28mprint\u001b[39m(res[\u001b[38;5;241m-\u001b[39m\u001b[38;5;241m2\u001b[39m:])\n",
      "\u001b[1;31mNameError\u001b[0m: name 'res' is not defined"
     ]
    }
   ],
   "source": [
    "print(res)\n",
    "print(res[-2:])"
   ]
  }
 ],
 "metadata": {
  "kernelspec": {
   "display_name": "Python 3",
   "language": "python",
   "name": "python3"
  },
  "language_info": {
   "codemirror_mode": {
    "name": "ipython",
    "version": 3
   },
   "file_extension": ".py",
   "mimetype": "text/x-python",
   "name": "python",
   "nbconvert_exporter": "python",
   "pygments_lexer": "ipython3",
   "version": "3.12.3"
  }
 },
 "nbformat": 4,
 "nbformat_minor": 2
}
