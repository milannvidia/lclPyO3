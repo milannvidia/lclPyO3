{
 "cells": [
  {
   "cell_type": "markdown",
   "metadata": {},
   "source": [
    "# Init and run local search examples"
   ]
  },
  {
   "cell_type": "markdown",
   "metadata": {},
   "source": [
    "## imports"
   ]
  },
  {
   "cell_type": "code",
   "execution_count": 1,
   "metadata": {
    "ExecuteTime": {
     "end_time": "2023-10-09T07:16:03.279588400Z",
     "start_time": "2023-10-09T07:16:03.000794800Z"
    }
   },
   "outputs": [],
   "source": [
    "# read data\n",
    "from lclpy.io.tsplib import read_tsplib\n",
    "\n",
    "# move functions\n",
    "from lclpy.localsearch.move.tsp_array_swap import TspArraySwap\n",
    "from lclpy.localsearch.move.array_reverse_order import ArrayReverseOrder\n",
    "from lclpy.localsearch.move.multi_neighbourhood import MultiNeighbourhood\n",
    "\n",
    "# evaluation function\n",
    "from lclpy.evaluation.tsp_evaluation_function import TspEvaluationFunction\n",
    "\n",
    "# Problem class\n",
    "from lclpy.problem.array_problem import ArrayProblem\n",
    "\n",
    "# termination functions\n",
    "from lclpy.termination.min_temperature_termination_criterion import MinTemperatureTerminationCriterion\n",
    "from lclpy.termination.max_seconds_termination_criterion import MaxSecondsTerminationCriterion\n",
    "\n",
    "# simulated annealing\n",
    "from lclpy.localsearch.simulatedannealing.simulated_annealing import SimulatedAnnealing\n",
    "from lclpy.localsearch.simulatedannealing.geometric_cooling_function import GeometricCoolingFunction\n",
    "from lclpy.localsearch.simulatedannealing.cnst_iterations_temp_function import CnstIterationsTempFunction\n",
    "\n",
    "# steepest descent \n",
    "from lclpy.localsearch.steepestdescent.steepest_descent import SteepestDescent\n",
    "\n",
    "# tabu search\n",
    "from lclpy.localsearch.tabusearch.sum_diff_state import SumDiffState\n",
    "from lclpy.localsearch.tabusearch.tabu_search import TabuSearch\n",
    "\n",
    "# variable neighbourhood search\n",
    "from lclpy.localsearch.vns.variable_neighbourhood import VariableNeighbourhood\n"
   ]
  },
  {
   "cell_type": "markdown",
   "metadata": {},
   "source": [
    "## Reading the data"
   ]
  },
  {
   "cell_type": "code",
   "execution_count": 8,
   "metadata": {
    "scrolled": true,
    "ExecuteTime": {
     "end_time": "2023-10-04T08:26:32.336071900Z",
     "start_time": "2023-10-04T08:26:32.312020Z"
    }
   },
   "outputs": [
    {
     "name": "stdout",
     "output_type": "stream",
     "text": [
      "[[  0 593 409 ... 235 369 121]\n",
      " [593   0 258 ... 371 205 570]\n",
      " [409 258   0 ... 187 289 386]\n",
      " ...\n",
      " [235 371 187 ...   0 149 212]\n",
      " [369 205 289 ... 149   0 347]\n",
      " [121 570 386 ... 212 347   0]]\n",
      "48\n"
     ]
    }
   ],
   "source": [
    "data = read_tsplib('data/gr48.tsp')\n",
    "distance_matrix = data[0]\n",
    "print(distance_matrix)\n",
    "\n",
    "size = distance_matrix.shape[0]\n",
    "print(size)"
   ]
  },
  {
   "cell_type": "markdown",
   "metadata": {},
   "source": [
    "## simulated annealing"
   ]
  },
  {
   "cell_type": "code",
   "execution_count": 9,
   "metadata": {
    "ExecuteTime": {
     "end_time": "2023-10-04T08:26:33.528857900Z",
     "start_time": "2023-10-04T08:26:32.322107300Z"
    }
   },
   "outputs": [
    {
     "name": "stdout",
     "output_type": "stream",
     "text": [
      "Improvement : 19557\n",
      "Improvement : 19217\n",
      "Improvement : 18598\n",
      "Improvement : 18525\n",
      "Improvement : 18088\n",
      "Improvement : 18072\n",
      "Improvement : 18060\n",
      "Improvement : 17872\n",
      "Improvement : 17613\n",
      "Improvement : 17218\n",
      "Improvement : 16824\n",
      "Improvement : 16303\n",
      "Improvement : 16093\n",
      "Improvement : 15761\n",
      "Improvement : 15311\n",
      "Improvement : 15239\n",
      "Improvement : 15176\n",
      "Improvement : 15090\n",
      "Improvement : 14770\n",
      "Improvement : 14726\n",
      "Improvement : 14651\n",
      "Improvement : 14572\n",
      "Improvement : 14559\n",
      "Improvement : 14475\n",
      "Improvement : 14344\n",
      "Improvement : 14255\n",
      "Improvement : 14212\n",
      "Improvement : 13890\n",
      "Improvement : 13803\n",
      "Improvement : 13585\n",
      "Improvement : 13568\n",
      "Improvement : 13449\n",
      "Improvement : 13243\n",
      "Improvement : 13147\n",
      "Improvement : 12973\n",
      "Improvement : 12940\n",
      "Improvement : 12600\n",
      "Improvement : 12216\n",
      "Improvement : 12124\n",
      "Improvement : 11843\n",
      "Improvement : 11770\n",
      "Improvement : 11719\n",
      "Improvement : 11685\n",
      "Improvement : 11508\n",
      "Improvement : 11345\n",
      "Improvement : 11296\n",
      "Improvement : 10925\n",
      "Improvement : 10891\n",
      "Improvement : 10789\n",
      "Improvement : 10504\n",
      "Improvement : 10379\n",
      "Improvement : 10366\n",
      "Improvement : 10281\n",
      "Improvement : 9450\n",
      "Improvement : 9017\n",
      "Improvement : 8842\n",
      "Improvement : 8611\n",
      "Improvement : 8604\n",
      "Improvement : 8515\n",
      "Improvement : 8465\n",
      "Improvement : 8439\n",
      "Improvement : 8415\n",
      "Improvement : 8409\n",
      "Improvement : 8369\n",
      "Improvement : 8151\n",
      "Improvement : 8107\n",
      "Improvement : 7919\n",
      "Improvement : 7800\n",
      "Improvement : 7747\n",
      "Improvement : 7730\n",
      "Improvement : 7710\n",
      "Improvement : 7686\n",
      "Improvement : 7621\n",
      "Improvement : 7401\n",
      "Improvement : 7304\n",
      "Improvement : 7295\n",
      "Improvement : 6965\n",
      "Improvement : 6905\n",
      "Improvement : 6894\n",
      "Improvement : 6660\n",
      "Improvement : 6643\n",
      "Improvement : 6565\n",
      "Improvement : 6476\n",
      "Improvement : 6423\n",
      "Improvement : 6305\n",
      "Improvement : 6288\n",
      "Improvement : 6282\n",
      "Improvement : 6252\n",
      "Improvement : 6248\n",
      "Improvement : 6098\n",
      "Improvement : 6093\n",
      "Improvement : 6078\n",
      "Improvement : 6053\n",
      "Improvement : 6040\n",
      "Improvement : 6039\n",
      "Improvement : 5979\n",
      "Improvement : 5965\n",
      "Improvement : 5962\n",
      "Improvement : 5932\n",
      "Improvement : 5924\n",
      "Improvement : 5913\n",
      "Improvement : 5905\n",
      "Improvement : 5904\n",
      "Improvement : 5889\n",
      "Improvement : 5841\n",
      "Improvement : 5806\n",
      "Improvement : 5800\n",
      "Improvement : 5798\n",
      "Improvement : 5793\n",
      "Improvement : 5694\n",
      "Improvement : 5667\n",
      "Improvement : 5647\n",
      "Improvement : 5638\n",
      "Improvement : 5621\n",
      "Improvement : 5613\n",
      "Results(best_order=array([ 0, 43, 40, 44, 29, 37, 19,  1, 34, 41, 38, 39, 36, 23, 30,  9, 11,\n",
      "        4, 32, 14, 25, 46, 42,  2, 18,  3, 24, 22, 33, 17, 45, 27,  6, 28,\n",
      "       47, 10, 35, 13,  8, 20, 16, 26, 31,  7, 21,  5, 15, 12]), best_value=5613, data=None)\n"
     ]
    }
   ],
   "source": [
    "move_1 = TspArraySwap(size)\n",
    "\n",
    "evaluation_1 = TspEvaluationFunction(distance_matrix, move_1)\n",
    "\n",
    "problem_1 = ArrayProblem(evaluation_1, move_1, size)\n",
    "\n",
    "termination_criterion_1 = MinTemperatureTerminationCriterion()\n",
    "\n",
    "cooling_func = GeometricCoolingFunction(0.95)\n",
    "i_for_temp = CnstIterationsTempFunction(1500)\n",
    "\n",
    "algorithm_1 = SimulatedAnnealing(problem_1, termination_criterion_1,\n",
    "                               cooling_func, i_for_temp)\n",
    "results_1 = algorithm_1.run()\n",
    "print(results_1)"
   ]
  },
  {
   "cell_type": "markdown",
   "metadata": {},
   "source": [
    "## steepest descent"
   ]
  },
  {
   "cell_type": "code",
   "execution_count": 10,
   "metadata": {
    "ExecuteTime": {
     "end_time": "2023-10-04T08:26:33.718740700Z",
     "start_time": "2023-10-04T08:26:33.527861800Z"
    }
   },
   "outputs": [
    {
     "name": "stdout",
     "output_type": "stream",
     "text": [
      "Improvement : 18381\n",
      "Improvement : 17226\n",
      "Improvement : 16206\n",
      "Improvement : 15138\n",
      "Improvement : 14149\n",
      "Improvement : 13407\n",
      "Improvement : 12754\n",
      "Improvement : 12052\n",
      "Improvement : 11342\n",
      "Improvement : 10515\n",
      "Improvement : 10114\n",
      "Improvement : 9838\n",
      "Improvement : 9611\n",
      "Improvement : 9350\n",
      "Improvement : 9106\n",
      "Improvement : 8894\n",
      "Improvement : 8695\n",
      "Improvement : 8500\n",
      "Improvement : 8264\n",
      "Improvement : 8122\n",
      "Improvement : 7992\n",
      "Improvement : 7863\n",
      "Improvement : 7765\n",
      "Improvement : 7671\n",
      "Improvement : 7587\n",
      "Improvement : 7527\n",
      "Improvement : 7444\n",
      "Improvement : 7379\n",
      "Improvement : 7320\n",
      "Improvement : 7241\n",
      "Improvement : 7185\n",
      "Improvement : 7138\n",
      "Improvement : 7114\n",
      "Improvement : 7096\n",
      "Improvement : 7083\n",
      "Improvement : 7074\n",
      "Improvement : 7073\n",
      "Results(best_order=array([ 0, 33, 18,  3,  2, 25,  7, 21,  8, 13, 35, 10,  5, 20, 16, 26, 31,\n",
      "       46,  1, 19, 37, 29, 24, 40, 43, 28, 12, 15, 47, 14, 32,  4, 30, 11,\n",
      "        9, 23, 36, 39, 38, 41, 34, 44, 42, 22, 17, 45, 27,  6]), best_value=7073, data=None)\n"
     ]
    }
   ],
   "source": [
    "move_2 = TspArraySwap(size)\n",
    "\n",
    "evaluation_2 = TspEvaluationFunction(distance_matrix, move_2)\n",
    "\n",
    "problem_2 = ArrayProblem(evaluation_2, move_2, size)\n",
    "\n",
    "\n",
    "algorithm_2 = SteepestDescent(problem_2)\n",
    "results_2 = algorithm_2.run()\n",
    "print(results_2)"
   ]
  },
  {
   "cell_type": "markdown",
   "metadata": {},
   "source": [
    "## tabu search"
   ]
  },
  {
   "cell_type": "code",
   "execution_count": 11,
   "metadata": {
    "ExecuteTime": {
     "end_time": "2023-10-04T08:26:43.728448Z",
     "start_time": "2023-10-04T08:26:33.716746500Z"
    }
   },
   "outputs": [
    {
     "name": "stdout",
     "output_type": "stream",
     "text": [
      "Improvement : 18381\n",
      "Improvement : 17226\n",
      "Improvement : 16237\n",
      "Improvement : 15266\n",
      "Improvement : 14423\n",
      "Improvement : 13681\n",
      "Improvement : 12815\n",
      "Improvement : 12206\n",
      "Improvement : 11661\n",
      "Improvement : 11089\n",
      "Improvement : 10688\n",
      "Improvement : 10290\n",
      "Improvement : 9901\n",
      "Improvement : 9567\n",
      "Improvement : 9278\n",
      "Improvement : 9000\n",
      "Improvement : 8788\n",
      "Improvement : 8591\n",
      "Improvement : 8397\n",
      "Improvement : 8217\n",
      "Improvement : 8043\n",
      "Improvement : 7875\n",
      "Improvement : 7733\n",
      "Improvement : 7554\n",
      "Improvement : 7403\n",
      "Improvement : 7252\n",
      "Improvement : 7122\n",
      "Improvement : 6915\n",
      "Improvement : 6826\n",
      "Improvement : 6744\n",
      "Improvement : 6672\n",
      "Improvement : 6657\n",
      "Improvement : 6643\n",
      "Improvement : 6634\n",
      "Improvement : 6627\n",
      "Improvement : 6492\n",
      "Improvement : 6490\n",
      "Improvement : 6428\n",
      "Improvement : 6427\n",
      "Improvement : 6387\n",
      "Improvement : 6365\n",
      "Improvement : 6350\n",
      "Improvement : 6348\n",
      "Improvement : 6332\n",
      "Improvement : 6324\n",
      "Improvement : 6323\n",
      "Improvement : 6320\n",
      "Improvement : 6319\n",
      "Improvement : 6310\n",
      "Improvement : 6308\n",
      "Improvement : 6299\n",
      "Improvement : 6295\n",
      "Improvement : 6294\n",
      "Results(best_order=array([ 0,  2, 18,  3, 29,  1, 46, 25,  5, 13,  8, 35, 10, 15, 47, 12,  6,\n",
      "       27, 45, 33, 24, 22, 17,  7, 21, 20, 16, 26, 31,  4, 11,  9, 30, 32,\n",
      "       14, 23, 36, 39, 38, 41, 34, 19, 37, 44, 42, 40, 43, 28]), best_value=6294, data=None)\n"
     ]
    }
   ],
   "source": [
    "move_3 = TspArraySwap(size)\n",
    "\n",
    "evaluation_3 = TspEvaluationFunction(distance_matrix, move_3)\n",
    "\n",
    "problem_3 = ArrayProblem(evaluation_3, move_3, size)\n",
    "\n",
    "termination_3 = MaxSecondsTerminationCriterion(10)\n",
    "\n",
    "diff_state_3 = SumDiffState()\n",
    "\n",
    "algorithm_3 = TabuSearch(problem_3, termination_3, diff_state_3, 11)\n",
    "results_3 = algorithm_3.run()\n",
    "print(results_3)"
   ]
  },
  {
   "cell_type": "markdown",
   "metadata": {},
   "source": [
    "## variable neighbourhood search"
   ]
  },
  {
   "cell_type": "code",
   "execution_count": 12,
   "metadata": {
    "ExecuteTime": {
     "end_time": "2023-10-04T08:26:44.335801300Z",
     "start_time": "2023-10-04T08:26:43.726454300Z"
    }
   },
   "outputs": [
    {
     "name": "stdout",
     "output_type": "stream",
     "text": [
      "Improvement : 18381\n",
      "Improvement : 17226\n",
      "Improvement : 16206\n",
      "Improvement : 15138\n",
      "Improvement : 14149\n",
      "Improvement : 13407\n",
      "Improvement : 12754\n",
      "Improvement : 12052\n",
      "Improvement : 11342\n",
      "Improvement : 10515\n",
      "Improvement : 10114\n",
      "Improvement : 9838\n",
      "Improvement : 9611\n",
      "Improvement : 9350\n",
      "Improvement : 9106\n",
      "Improvement : 8894\n",
      "Improvement : 8695\n",
      "Improvement : 8500\n",
      "Improvement : 8264\n",
      "Improvement : 8122\n",
      "Improvement : 7992\n",
      "Improvement : 7863\n",
      "Improvement : 7765\n",
      "Improvement : 7671\n",
      "Improvement : 7587\n",
      "Improvement : 7527\n",
      "Improvement : 7444\n",
      "Improvement : 7379\n",
      "Improvement : 7320\n",
      "Improvement : 7241\n",
      "Improvement : 7185\n",
      "Improvement : 7138\n",
      "Improvement : 7114\n",
      "Improvement : 7096\n",
      "Improvement : 7083\n",
      "Improvement : 7074\n",
      "Improvement : 7073\n",
      "Improvement : 6771\n",
      "Improvement : 6522\n",
      "Improvement : 6423\n",
      "Improvement : 6382\n",
      "Improvement : 6373\n",
      "Improvement : 6366\n",
      "Improvement : 6285\n",
      "Improvement : 6284\n",
      "Improvement : 6048\n",
      "Improvement : 5995\n",
      "Improvement : 5963\n",
      "Improvement : 5945\n",
      "Improvement : 5929\n",
      "Improvement : 5914\n",
      "Improvement : 5887\n",
      "Improvement : 5883\n",
      "Improvement : 5759\n",
      "Improvement : 5745\n",
      "Improvement : 5737\n",
      "Improvement : 5576\n",
      "Improvement : 5488\n",
      "Improvement : 5352\n",
      "Improvement : 5251\n",
      "Improvement : 5185\n",
      "Improvement : 5160\n",
      "Improvement : 5105\n",
      "Improvement : 5103\n",
      "Improvement : 5097\n",
      "Results(best_order=array([ 6, 28,  0, 12, 47, 15, 10, 35,  5, 13,  8, 20, 16, 26, 31, 21,  7,\n",
      "       25, 14, 32,  4, 30, 11,  9, 23, 36, 46, 17, 45, 33, 22, 42, 44,  1,\n",
      "       39, 38, 41, 34, 19, 37, 29,  3, 18,  2, 24, 40, 43, 27]), best_value=5097, data=None)\n"
     ]
    }
   ],
   "source": [
    "move_a = TspArraySwap(size)\n",
    "move_b = ArrayReverseOrder(size)\n",
    "\n",
    "moves = [move_a, move_b]\n",
    "\n",
    "move_4 = MultiNeighbourhood(moves)\n",
    "\n",
    "evaluation_4 = TspEvaluationFunction(distance_matrix, move_4)\n",
    "\n",
    "problem_4 = ArrayProblem(evaluation_4, move_4, size)\n",
    "\n",
    "\n",
    "algorithm_4 = VariableNeighbourhood(problem_4)\n",
    "results_4 = algorithm_4.run()\n",
    "print(results_4)"
   ]
  }
 ],
 "metadata": {
  "kernelspec": {
   "display_name": "Python 3",
   "language": "python",
   "name": "python3"
  },
  "language_info": {
   "codemirror_mode": {
    "name": "ipython",
    "version": 3
   },
   "file_extension": ".py",
   "mimetype": "text/x-python",
   "name": "python",
   "nbconvert_exporter": "python",
   "pygments_lexer": "ipython3",
   "version": "3.7.4"
  }
 },
 "nbformat": 4,
 "nbformat_minor": 2
}
